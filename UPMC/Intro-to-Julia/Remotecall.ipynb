{
 "cells": [
  {
   "cell_type": "markdown",
   "metadata": {},
   "source": [
    "# An introduction to remote calls in Julia\n",
    "\n",
    "First add some workers"
   ]
  },
  {
   "cell_type": "code",
   "execution_count": 1,
   "metadata": {},
   "outputs": [
    {
     "data": {
      "text/plain": [
       "2-element Array{Int64,1}:\n",
       " 2\n",
       " 3"
      ]
     },
     "execution_count": 1,
     "metadata": {},
     "output_type": "execute_result"
    }
   ],
   "source": [
    "if nprocs() == 1 \n",
    "    addprocs(2)\n",
    "end;\n",
    "workers()"
   ]
  },
  {
   "cell_type": "markdown",
   "metadata": {},
   "source": [
    "Now we create an anonymous function `() -> \"Allez les Bleus\"` and ask Julia to execute it on worker `2` with `remoteall`."
   ]
  },
  {
   "cell_type": "code",
   "execution_count": 5,
   "metadata": {},
   "outputs": [
    {
     "data": {
      "text/plain": [
       "Future(2, 1, 7, Nullable{Any}())"
      ]
     },
     "execution_count": 5,
     "metadata": {},
     "output_type": "execute_result"
    }
   ],
   "source": [
    "r = remotecall(() -> \"Allez les Bleus\", 2)"
   ]
  },
  {
   "cell_type": "markdown",
   "metadata": {},
   "source": [
    "The result return from `remotecall` is a `Future`. The `Future` keeps a reference to the the actual result of the computation. To result can be retrieved with the `fetch` function."
   ]
  },
  {
   "cell_type": "code",
   "execution_count": 6,
   "metadata": {},
   "outputs": [
    {
     "data": {
      "text/plain": [
       "\"Allez les Bleus\""
      ]
     },
     "execution_count": 6,
     "metadata": {},
     "output_type": "execute_result"
    }
   ],
   "source": [
    "fetch(r)"
   ]
  },
  {
   "cell_type": "markdown",
   "metadata": {},
   "source": [
    "but this doesn't have to happen on the master node"
   ]
  },
  {
   "cell_type": "code",
   "execution_count": 7,
   "metadata": {},
   "outputs": [
    {
     "name": "stdout",
     "output_type": "stream",
     "text": [
      "\tFrom worker 2:\tAllez les Bleus\n"
     ]
    }
   ],
   "source": [
    "remotecall(() -> println(fetch(r)), 2);"
   ]
  },
  {
   "cell_type": "markdown",
   "metadata": {},
   "source": [
    "In some cases, this could also happen from another worker process but JuliaBox is by default set up to only allow master-worker communication so"
   ]
  },
  {
   "cell_type": "code",
   "execution_count": 8,
   "metadata": {},
   "outputs": [
    {
     "name": "stdout",
     "output_type": "stream",
     "text": [
      "\tFrom worker 3:\tAllez les Bleus\n"
     ]
    }
   ],
   "source": [
    "remotecall(() -> println(fetch(r)), 3);"
   ]
  },
  {
   "cell_type": "markdown",
   "metadata": {},
   "source": [
    "will fail on JuliaBox but not if you e.g. `addprocs(2)` locally."
   ]
  },
  {
   "cell_type": "code",
   "execution_count": 26,
   "metadata": {},
   "outputs": [
    {
     "name": "stdout",
     "output_type": "stream",
     "text": [
      "fetch(r) = 3\n",
      "\tFrom worker 2:\t3\n"
     ]
    }
   ],
   "source": [
    "r = remotecall(() -> myid(), 3)\n",
    "@show fetch(r)\n",
    "remotecall(() -> println(fetch(r)), 2);"
   ]
  },
  {
   "cell_type": "code",
   "execution_count": 28,
   "metadata": {},
   "outputs": [
    {
     "data": {
      "text/plain": [
       "3"
      ]
     },
     "execution_count": 28,
     "metadata": {},
     "output_type": "execute_result"
    }
   ],
   "source": [
    "r = remotecall(i -> i + myid(), 2, 1)\n",
    "fetch(r)"
   ]
  },
  {
   "cell_type": "markdown",
   "metadata": {},
   "source": [
    "## Tasks\n",
    "\n",
    "The `remotecall` is asynchronous and synchronization will happen when the result is fetched. Often, it is useful to be able to control the synchronization more precisely. This is possible with the two related functions `remotecall_fetch` and `remotecall_wait`. Their behaviors are very similar to `remotecall` but both are blocking. However, they may be combined with `@async` and `@sync` annotations to setup blocks of code to be run asynchronously and when sync up again. The difference between the two blocking versions is that `remotecall_fetch` will return the result whereas `remotecall_wait` will return a `Future` with a reference to the result.\n",
    "\n",
    "The blocking behavior can be tested with the `sleep` function"
   ]
  },
  {
   "cell_type": "code",
   "execution_count": 31,
   "metadata": {},
   "outputs": [
    {
     "name": "stdout",
     "output_type": "stream",
     "text": [
      "  0.000190 seconds (91 allocations: 4.172 KiB)\n"
     ]
    }
   ],
   "source": [
    "@time remotecall(() -> sleep(2), 2);"
   ]
  },
  {
   "cell_type": "code",
   "execution_count": 32,
   "metadata": {},
   "outputs": [
    {
     "name": "stdout",
     "output_type": "stream",
     "text": [
      "  2.041510 seconds (228 allocations: 7.609 KiB)\n"
     ]
    }
   ],
   "source": [
    "@time fetch(remotecall(() -> sleep(2), 2));"
   ]
  },
  {
   "cell_type": "code",
   "execution_count": 34,
   "metadata": {},
   "outputs": [
    {
     "name": "stdout",
     "output_type": "stream",
     "text": [
      "  2.098860 seconds (286 allocations: 12.500 KiB)\n"
     ]
    },
    {
     "data": {
      "text/plain": [
       "Future"
      ]
     },
     "execution_count": 34,
     "metadata": {},
     "output_type": "execute_result"
    }
   ],
   "source": [
    "@time typeof(remotecall_wait(() -> sleep(2), 2))"
   ]
  },
  {
   "cell_type": "code",
   "execution_count": 35,
   "metadata": {},
   "outputs": [
    {
     "name": "stdout",
     "output_type": "stream",
     "text": [
      "  2.010359 seconds (1.36 k allocations: 72.019 KiB)\n"
     ]
    },
    {
     "data": {
      "text/plain": [
       "Void"
      ]
     },
     "execution_count": 35,
     "metadata": {},
     "output_type": "execute_result"
    }
   ],
   "source": [
    "@time typeof(remotecall_fetch(() -> sleep(2), 2))"
   ]
  },
  {
   "cell_type": "markdown",
   "metadata": {},
   "source": [
    "By annotating remotecall_fetch with `@async`, we can make the code block return immediately"
   ]
  },
  {
   "cell_type": "code",
   "execution_count": 40,
   "metadata": {},
   "outputs": [
    {
     "name": "stdout",
     "output_type": "stream",
     "text": [
      "  0.000080 seconds (36 allocations: 2.950 KiB)\n"
     ]
    },
    {
     "data": {
      "text/plain": [
       "Task (runnable) @0x000000011298e1d0"
      ]
     },
     "execution_count": 40,
     "metadata": {},
     "output_type": "execute_result"
    }
   ],
   "source": [
    "@time @async remotecall_fetch(() -> (sleep(2); 1), 2)"
   ]
  },
  {
   "cell_type": "markdown",
   "metadata": {},
   "source": [
    "This can be useful when we want to run concurrent computations on the available workers. First we show an example without asynchronous execution and the one with asynchronous execution"
   ]
  },
  {
   "cell_type": "code",
   "execution_count": 42,
   "metadata": {},
   "outputs": [
    {
     "name": "stdout",
     "output_type": "stream",
     "text": [
      "  4.210647 seconds (512 allocations: 18.891 KiB)\n"
     ]
    }
   ],
   "source": [
    "@time for p in workers()\n",
    "    remotecall_fetch(() -> sleep(1), p)\n",
    "end"
   ]
  },
  {
   "cell_type": "code",
   "execution_count": 43,
   "metadata": {},
   "outputs": [
    {
     "name": "stdout",
     "output_type": "stream",
     "text": [
      "  1.021786 seconds (4.18 k allocations: 242.341 KiB)\n"
     ]
    }
   ],
   "source": [
    "@time @sync for p in workers()\n",
    "    @async remotecall_fetch(() -> sleep(1), p)\n",
    "end"
   ]
  },
  {
   "cell_type": "markdown",
   "metadata": {},
   "source": [
    "This is a very common pattern so Julia has a convenience function defined for exactly this"
   ]
  },
  {
   "cell_type": "code",
   "execution_count": 50,
   "metadata": {},
   "outputs": [
    {
     "name": "stdout",
     "output_type": "stream",
     "text": [
      "  1.051919 seconds (17.16 k allocations: 966.828 KiB)\n"
     ]
    },
    {
     "data": {
      "text/plain": [
       "4-element Array{Int64,1}:\n",
       " 2\n",
       " 3\n",
       " 4\n",
       " 5"
      ]
     },
     "execution_count": 50,
     "metadata": {},
     "output_type": "execute_result"
    }
   ],
   "source": [
    "@time @sync asyncmap(p -> remotecall_fetch(() -> (sleep(1); myid()), p), workers())"
   ]
  },
  {
   "cell_type": "markdown",
   "metadata": {},
   "source": [
    "The nested anonymous functions become hard to read. This is true in particular when the function body of the anonymous functions become non-trivial. It is therefore often better to use Julia's `do` syntax for anonymous functions. An equivalent formulation of the previous call with `do` syntax would look like"
   ]
  },
  {
   "cell_type": "code",
   "execution_count": 51,
   "metadata": {},
   "outputs": [
    {
     "name": "stdout",
     "output_type": "stream",
     "text": [
      "  1.051252 seconds (17.05 k allocations: 963.638 KiB)\n"
     ]
    },
    {
     "data": {
      "text/plain": [
       "4-element Array{Int64,1}:\n",
       " 2\n",
       " 3\n",
       " 4\n",
       " 5"
      ]
     },
     "execution_count": 51,
     "metadata": {},
     "output_type": "execute_result"
    }
   ],
   "source": [
    "@time @sync asyncmap(workers()) do p\n",
    "    remotecall_fetch(p) do\n",
    "        return (sleep(1); myid())\n",
    "    end\n",
    "end"
   ]
  },
  {
   "cell_type": "markdown",
   "metadata": {},
   "source": [
    "It might take a little effort to get used to the `do` syntax but doing so"
   ]
  },
  {
   "cell_type": "code",
   "execution_count": 17,
   "metadata": {},
   "outputs": [
    {
     "data": {
      "text/plain": [
       "4-element Array{Int64,1}:\n",
       " 2\n",
       " 3\n",
       " 4\n",
       " 5"
      ]
     },
     "execution_count": 17,
     "metadata": {},
     "output_type": "execute_result"
    }
   ],
   "source": [
    "[remotecall_fetch(() -> myid(), i) for i in workers()]"
   ]
  },
  {
   "cell_type": "code",
   "execution_count": 18,
   "metadata": {},
   "outputs": [
    {
     "name": "stdout",
     "output_type": "stream",
     "text": [
      "\tFrom worker 3:\tdo syntax\n"
     ]
    },
    {
     "data": {
      "text/plain": [
       "Future(3, 1, 24, Nullable{Any}())"
      ]
     },
     "execution_count": 18,
     "metadata": {},
     "output_type": "execute_result"
    }
   ],
   "source": [
    "remotecall_wait(3) do\n",
    "    println(\"do syntax\")\n",
    "end"
   ]
  },
  {
   "cell_type": "code",
   "execution_count": null,
   "metadata": {},
   "outputs": [],
   "source": []
  }
 ],
 "metadata": {
  "kernelspec": {
   "display_name": "Julia 0.6.2",
   "language": "julia",
   "name": "julia-0.6"
  },
  "language_info": {
   "file_extension": ".jl",
   "mimetype": "application/julia",
   "name": "julia",
   "version": "0.6.3"
  }
 },
 "nbformat": 4,
 "nbformat_minor": 2
}
