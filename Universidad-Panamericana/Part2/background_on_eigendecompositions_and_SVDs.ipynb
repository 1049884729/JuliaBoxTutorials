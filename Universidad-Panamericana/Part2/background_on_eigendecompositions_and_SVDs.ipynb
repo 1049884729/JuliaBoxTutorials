{
 "cells": [
  {
   "cell_type": "markdown",
   "metadata": {},
   "source": [
    "In this notebook, we'll learn how to use a type of factorization called a **Singular Value Decomposition (SVD)** to compress an image!\n",
    "\n",
    "Before we get started, let's review what SVDs are. To note, I'm targeting this material at someone who has already learned about SVDs but hasn't seen them in a while. If that's not you, that's okay! Hopefully you'll still enjoy the material. Just remember that if you're seeing this for the first time and it feels fast, that's because it is (so no reason to be frustrated!). :)"
   ]
  },
  {
   "cell_type": "markdown",
   "metadata": {},
   "source": [
    "First off, *SVDs are generalizations of **eigendecompositions***. In physics and engineering, eigendecompositions are often more common than SVDs. Let's start by talking about eigendecompositions since you may have seen them more recently."
   ]
  },
  {
   "cell_type": "markdown",
   "metadata": {},
   "source": [
    "### Eigendecompositions\n",
    "\n",
    "When we perform an eigendecomposition, we determine the eigenvalues and eigenvectors of a matrix $A_{sym}$ such that\n",
    "\n",
    "$$A_{sym} = VΛV^T$$\n",
    "\n",
    "when $V$ is the matrix that stores those eigenvectors as columns and $Λ$ is a diagonal matrix where the eigenvalues populate the diagonal.\n",
    "\n",
    "As we saw in the last notebook, we can perform an eigendecomposition on a matrix `Asym` with the function `eigfact`:"
   ]
  },
  {
   "cell_type": "code",
   "execution_count": 1,
   "metadata": {},
   "outputs": [
    {
     "data": {
      "text/plain": [
       "2×2 Array{Float64,2}:\n",
       " 0.110136  0.12192 \n",
       " 0.349209  0.864153"
      ]
     },
     "execution_count": 1,
     "metadata": {},
     "output_type": "execute_result"
    }
   ],
   "source": [
    "A = rand(2, 2)"
   ]
  },
  {
   "cell_type": "code",
   "execution_count": 2,
   "metadata": {},
   "outputs": [
    {
     "data": {
      "text/plain": [
       "2×2 Array{Float64,2}:\n",
       " 0.220273  0.471129\n",
       " 0.471129  1.72831 "
      ]
     },
     "execution_count": 2,
     "metadata": {},
     "output_type": "execute_result"
    }
   ],
   "source": [
    "Asym = A + A'"
   ]
  },
  {
   "cell_type": "code",
   "execution_count": 3,
   "metadata": {},
   "outputs": [
    {
     "data": {
      "text/plain": [
       "Base.LinAlg.Eigen{Float64,Float64,Array{Float64,2},Array{Float64,1}}([0.0851863, 1.86339], [-0.961266 0.275622; 0.275622 0.961266])"
      ]
     },
     "execution_count": 3,
     "metadata": {},
     "output_type": "execute_result"
    }
   ],
   "source": [
    "eigAsym = eigfact(Asym)"
   ]
  },
  {
   "cell_type": "markdown",
   "metadata": {},
   "source": [
    "We can then grab the eigenvalues and eigenvectors with the `:values` and `:vectors` symbols:"
   ]
  },
  {
   "cell_type": "code",
   "execution_count": 4,
   "metadata": {},
   "outputs": [
    {
     "data": {
      "text/plain": [
       "2-element Array{Float64,1}:\n",
       " 0.0851863\n",
       " 1.86339  "
      ]
     },
     "execution_count": 4,
     "metadata": {},
     "output_type": "execute_result"
    }
   ],
   "source": [
    "V = eigAsym[:vectors]\n",
    "eigvals = eigAsym[:values]"
   ]
  },
  {
   "cell_type": "markdown",
   "metadata": {},
   "source": [
    "As a sanity check, let's check that we can reconstruct the original matrix, $A_{sym}$ from its eigendecomposition. First, we can build a diagonal matrix from the eigenvalues with the `Diagonal` function."
   ]
  },
  {
   "cell_type": "code",
   "execution_count": 5,
   "metadata": {},
   "outputs": [
    {
     "data": {
      "text/plain": [
       "2×2 Diagonal{Float64}:\n",
       " 0.0851863   ⋅     \n",
       "  ⋅         1.86339"
      ]
     },
     "execution_count": 5,
     "metadata": {},
     "output_type": "execute_result"
    }
   ],
   "source": [
    "Λ = Diagonal(eigvals)"
   ]
  },
  {
   "cell_type": "markdown",
   "metadata": {},
   "source": [
    "Does the matrix product $VΛV^T$ look like the original matrix, $A_{sym}$?"
   ]
  },
  {
   "cell_type": "code",
   "execution_count": 6,
   "metadata": {},
   "outputs": [
    {
     "data": {
      "text/plain": [
       "2×2 Array{Float64,2}:\n",
       " 0.220273  0.471129\n",
       " 0.471129  1.72831 "
      ]
     },
     "execution_count": 6,
     "metadata": {},
     "output_type": "execute_result"
    }
   ],
   "source": [
    "reconstructedAsym = V*Λ*V'"
   ]
  },
  {
   "cell_type": "markdown",
   "metadata": {},
   "source": [
    "Things should be working as we might hope. So what is the importance of the eigenvectors and eigenvalues of a matrix anyways?\n",
    "\n",
    "\n",
    "What's special about the eigenvectors of a matrix is that applying the matrix to them causes them to be stationary in space. In contrast, you can think of most vectors as \"changing direction\" or rotating through space when a matrix is applied to them.\n",
    "\n",
    "*For example*, take the matrix $M$ that flips vectors across the $y$-axis:"
   ]
  },
  {
   "cell_type": "code",
   "execution_count": 7,
   "metadata": {},
   "outputs": [
    {
     "data": {
      "text/plain": [
       "2×2 Array{Int64,2}:\n",
       " -1  0\n",
       "  0  1"
      ]
     },
     "execution_count": 7,
     "metadata": {},
     "output_type": "execute_result"
    }
   ],
   "source": [
    "M = [[-1, 0] [0, 1]]"
   ]
  },
  {
   "cell_type": "markdown",
   "metadata": {},
   "source": [
    "When we apply $M$ to a vector $v$ where $v = [ v_1, v_2]$, we get $Mv = [-v_1, v_2]$. Let's see how this \"flips\" a vector across the $y$-axis:"
   ]
  },
  {
   "cell_type": "code",
   "execution_count": 8,
   "metadata": {},
   "outputs": [
    {
     "data": {
      "text/plain": [
       "Plots.GRBackend()"
      ]
     },
     "execution_count": 8,
     "metadata": {},
     "output_type": "execute_result"
    }
   ],
   "source": [
    "# Load the colors package\n",
    "using Colors\n",
    "# Load the plots package and call a backend\n",
    "using Plots\n",
    "gr()"
   ]
  },
  {
   "cell_type": "code",
   "execution_count": 9,
   "metadata": {},
   "outputs": [
    {
     "data": {
      "text/plain": [
       "plot_2D_vector"
      ]
     },
     "execution_count": 9,
     "metadata": {},
     "output_type": "execute_result"
    }
   ],
   "source": [
    "\"\"\"\n",
    "plot_2D_vector(v, M)\n",
    "\n",
    "Given a 2D vector, v, and a matrix, M, plot v and M * v on an existing figure\n",
    "in the same color. Plot v as an overlay of a line and points, and M*v as just a series of points.\"\"\"\n",
    "function plot_2D_vector(v, M)\n",
    "    # choose a color to plot \n",
    "    c = rand(distinguishable_colors(15))\n",
    "    # Define a function f(x) such that the point (x, f(x))\n",
    "    # lies on the vector v\n",
    "    f(x) = v[2]/v[1] * x\n",
    "    # Plot vector v as a line\n",
    "    plot!(f, color = c)\n",
    "    scatter!(f, color = c)\n",
    "\n",
    "    # Similarly, (x, g(x)) lies on the vector M*v\n",
    "    g(x) = (M*v)[2]/(M*v)[1] * x\n",
    "    # Plot M*v as a series of scatter points\n",
    "    scatter!(g, color = c)\n",
    "end"
   ]
  },
  {
   "cell_type": "code",
   "execution_count": 10,
   "metadata": {},
   "outputs": [],
   "source": [
    "# Now let's generate a plot\n",
    "fig = plot(legend=false)\n",
    "xlims!(-2, 2)\n",
    "ylims!(-2, 2);"
   ]
  },
  {
   "cell_type": "code",
   "execution_count": 11,
   "metadata": {},
   "outputs": [
    {
     "data": {
      "image/svg+xml": [
       "<?xml version=\"1.0\" encoding=\"utf-8\"?>\n",
       "<svg xmlns=\"http://www.w3.org/2000/svg\" xmlns:xlink=\"http://www.w3.org/1999/xlink\" width=\"600\" height=\"400\" viewBox=\"0 0 600 400\">\n",
       "<defs>\n",
       "  <clipPath id=\"clip2400\">\n",
       "    <rect x=\"0\" y=\"0\" width=\"600\" height=\"400\"/>\n",
       "  </clipPath>\n",
       "</defs>\n",
       "<polygon clip-path=\"url(#clip2400)\" points=\"\n",
       "0,400 600,400 600,0 0,0 \n",
       "  \" fill=\"#ffffff\" fill-opacity=\"1\"/>\n",
       "<defs>\n",
       "  <clipPath id=\"clip2401\">\n",
       "    <rect x=\"120\" y=\"0\" width=\"421\" height=\"400\"/>\n",
       "  </clipPath>\n",
       "</defs>\n",
       "<polygon clip-path=\"url(#clip2400)\" points=\"\n",
       "29.4661,375.869 580.315,375.869 580.315,11.811 29.4661,11.811 \n",
       "  \" fill=\"#ffffff\" fill-opacity=\"1\"/>\n",
       "<defs>\n",
       "  <clipPath id=\"clip2402\">\n",
       "    <rect x=\"29\" y=\"11\" width=\"552\" height=\"365\"/>\n",
       "  </clipPath>\n",
       "</defs>\n",
       "<polyline clip-path=\"url(#clip2402)\" style=\"stroke:#000000; stroke-width:0.5; stroke-opacity:0.1; fill:none\" points=\"\n",
       "  29.4661,375.869 29.4661,11.811 \n",
       "  \"/>\n",
       "<polyline clip-path=\"url(#clip2402)\" style=\"stroke:#000000; stroke-width:0.5; stroke-opacity:0.1; fill:none\" points=\"\n",
       "  167.178,375.869 167.178,11.811 \n",
       "  \"/>\n",
       "<polyline clip-path=\"url(#clip2402)\" style=\"stroke:#000000; stroke-width:0.5; stroke-opacity:0.1; fill:none\" points=\"\n",
       "  304.891,375.869 304.891,11.811 \n",
       "  \"/>\n",
       "<polyline clip-path=\"url(#clip2402)\" style=\"stroke:#000000; stroke-width:0.5; stroke-opacity:0.1; fill:none\" points=\"\n",
       "  442.603,375.869 442.603,11.811 \n",
       "  \"/>\n",
       "<polyline clip-path=\"url(#clip2402)\" style=\"stroke:#000000; stroke-width:0.5; stroke-opacity:0.1; fill:none\" points=\"\n",
       "  580.315,375.869 580.315,11.811 \n",
       "  \"/>\n",
       "<polyline clip-path=\"url(#clip2402)\" style=\"stroke:#000000; stroke-width:0.5; stroke-opacity:0.1; fill:none\" points=\"\n",
       "  29.4661,375.869 580.315,375.869 \n",
       "  \"/>\n",
       "<polyline clip-path=\"url(#clip2402)\" style=\"stroke:#000000; stroke-width:0.5; stroke-opacity:0.1; fill:none\" points=\"\n",
       "  29.4661,284.854 580.315,284.854 \n",
       "  \"/>\n",
       "<polyline clip-path=\"url(#clip2402)\" style=\"stroke:#000000; stroke-width:0.5; stroke-opacity:0.1; fill:none\" points=\"\n",
       "  29.4661,193.84 580.315,193.84 \n",
       "  \"/>\n",
       "<polyline clip-path=\"url(#clip2402)\" style=\"stroke:#000000; stroke-width:0.5; stroke-opacity:0.1; fill:none\" points=\"\n",
       "  29.4661,102.825 580.315,102.825 \n",
       "  \"/>\n",
       "<polyline clip-path=\"url(#clip2402)\" style=\"stroke:#000000; stroke-width:0.5; stroke-opacity:0.1; fill:none\" points=\"\n",
       "  29.4661,11.811 580.315,11.811 \n",
       "  \"/>\n",
       "<polyline clip-path=\"url(#clip2400)\" style=\"stroke:#000000; stroke-width:1; stroke-opacity:1; fill:none\" points=\"\n",
       "  29.4661,375.869 580.315,375.869 \n",
       "  \"/>\n",
       "<polyline clip-path=\"url(#clip2400)\" style=\"stroke:#000000; stroke-width:1; stroke-opacity:1; fill:none\" points=\"\n",
       "  29.4661,375.869 29.4661,11.811 \n",
       "  \"/>\n",
       "<polyline clip-path=\"url(#clip2400)\" style=\"stroke:#000000; stroke-width:1; stroke-opacity:1; fill:none\" points=\"\n",
       "  29.4661,375.869 29.4661,370.408 \n",
       "  \"/>\n",
       "<polyline clip-path=\"url(#clip2400)\" style=\"stroke:#000000; stroke-width:1; stroke-opacity:1; fill:none\" points=\"\n",
       "  167.178,375.869 167.178,370.408 \n",
       "  \"/>\n",
       "<polyline clip-path=\"url(#clip2400)\" style=\"stroke:#000000; stroke-width:1; stroke-opacity:1; fill:none\" points=\"\n",
       "  304.891,375.869 304.891,370.408 \n",
       "  \"/>\n",
       "<polyline clip-path=\"url(#clip2400)\" style=\"stroke:#000000; stroke-width:1; stroke-opacity:1; fill:none\" points=\"\n",
       "  442.603,375.869 442.603,370.408 \n",
       "  \"/>\n",
       "<polyline clip-path=\"url(#clip2400)\" style=\"stroke:#000000; stroke-width:1; stroke-opacity:1; fill:none\" points=\"\n",
       "  580.315,375.869 580.315,370.408 \n",
       "  \"/>\n",
       "<polyline clip-path=\"url(#clip2400)\" style=\"stroke:#000000; stroke-width:1; stroke-opacity:1; fill:none\" points=\"\n",
       "  29.4661,375.869 37.7289,375.869 \n",
       "  \"/>\n",
       "<polyline clip-path=\"url(#clip2400)\" style=\"stroke:#000000; stroke-width:1; stroke-opacity:1; fill:none\" points=\"\n",
       "  29.4661,284.854 37.7289,284.854 \n",
       "  \"/>\n",
       "<polyline clip-path=\"url(#clip2400)\" style=\"stroke:#000000; stroke-width:1; stroke-opacity:1; fill:none\" points=\"\n",
       "  29.4661,193.84 37.7289,193.84 \n",
       "  \"/>\n",
       "<polyline clip-path=\"url(#clip2400)\" style=\"stroke:#000000; stroke-width:1; stroke-opacity:1; fill:none\" points=\"\n",
       "  29.4661,102.825 37.7289,102.825 \n",
       "  \"/>\n",
       "<polyline clip-path=\"url(#clip2400)\" style=\"stroke:#000000; stroke-width:1; stroke-opacity:1; fill:none\" points=\"\n",
       "  29.4661,11.811 37.7289,11.811 \n",
       "  \"/>\n",
       "<g clip-path=\"url(#clip2400)\">\n",
       "<text style=\"fill:#000000; fill-opacity:1; font-family:Arial,Helvetica Neue,Helvetica,sans-serif; font-size:12; text-anchor:middle;\" transform=\"rotate(0, 29.4661, 389.669)\" x=\"29.4661\" y=\"389.669\">-2</text>\n",
       "</g>\n",
       "<g clip-path=\"url(#clip2400)\">\n",
       "<text style=\"fill:#000000; fill-opacity:1; font-family:Arial,Helvetica Neue,Helvetica,sans-serif; font-size:12; text-anchor:middle;\" transform=\"rotate(0, 167.178, 389.669)\" x=\"167.178\" y=\"389.669\">-1</text>\n",
       "</g>\n",
       "<g clip-path=\"url(#clip2400)\">\n",
       "<text style=\"fill:#000000; fill-opacity:1; font-family:Arial,Helvetica Neue,Helvetica,sans-serif; font-size:12; text-anchor:middle;\" transform=\"rotate(0, 304.891, 389.669)\" x=\"304.891\" y=\"389.669\">0</text>\n",
       "</g>\n",
       "<g clip-path=\"url(#clip2400)\">\n",
       "<text style=\"fill:#000000; fill-opacity:1; font-family:Arial,Helvetica Neue,Helvetica,sans-serif; font-size:12; text-anchor:middle;\" transform=\"rotate(0, 442.603, 389.669)\" x=\"442.603\" y=\"389.669\">1</text>\n",
       "</g>\n",
       "<g clip-path=\"url(#clip2400)\">\n",
       "<text style=\"fill:#000000; fill-opacity:1; font-family:Arial,Helvetica Neue,Helvetica,sans-serif; font-size:12; text-anchor:middle;\" transform=\"rotate(0, 580.315, 389.669)\" x=\"580.315\" y=\"389.669\">2</text>\n",
       "</g>\n",
       "<g clip-path=\"url(#clip2400)\">\n",
       "<text style=\"fill:#000000; fill-opacity:1; font-family:Arial,Helvetica Neue,Helvetica,sans-serif; font-size:12; text-anchor:end;\" transform=\"rotate(0, 23.4661, 380.369)\" x=\"23.4661\" y=\"380.369\">-2</text>\n",
       "</g>\n",
       "<g clip-path=\"url(#clip2400)\">\n",
       "<text style=\"fill:#000000; fill-opacity:1; font-family:Arial,Helvetica Neue,Helvetica,sans-serif; font-size:12; text-anchor:end;\" transform=\"rotate(0, 23.4661, 289.354)\" x=\"23.4661\" y=\"289.354\">-1</text>\n",
       "</g>\n",
       "<g clip-path=\"url(#clip2400)\">\n",
       "<text style=\"fill:#000000; fill-opacity:1; font-family:Arial,Helvetica Neue,Helvetica,sans-serif; font-size:12; text-anchor:end;\" transform=\"rotate(0, 23.4661, 198.34)\" x=\"23.4661\" y=\"198.34\">0</text>\n",
       "</g>\n",
       "<g clip-path=\"url(#clip2400)\">\n",
       "<text style=\"fill:#000000; fill-opacity:1; font-family:Arial,Helvetica Neue,Helvetica,sans-serif; font-size:12; text-anchor:end;\" transform=\"rotate(0, 23.4661, 107.325)\" x=\"23.4661\" y=\"107.325\">1</text>\n",
       "</g>\n",
       "<g clip-path=\"url(#clip2400)\">\n",
       "<text style=\"fill:#000000; fill-opacity:1; font-family:Arial,Helvetica Neue,Helvetica,sans-serif; font-size:12; text-anchor:end;\" transform=\"rotate(0, 23.4661, 16.311)\" x=\"23.4661\" y=\"16.311\">2</text>\n",
       "</g>\n",
       "<polyline clip-path=\"url(#clip2402)\" style=\"stroke:#00ffc5; stroke-width:1; stroke-opacity:1; fill:none\" points=\"\n",
       "  34.8456,465.91 84.5868,415.796 114.479,385.679 139.753,360.216 167.207,332.556 192.517,307.056 219.653,279.717 251.092,248.042 279.031,219.893 303.531,195.209 \n",
       "  330.243,168.297 357.114,141.225 386.823,111.293 415.09,82.8142 444.481,53.2025 469.222,28.2757 499.429,-2.15715 527.823,-30.7649 573.314,-76.5967 \n",
       "  \"/>\n",
       "<circle clip-path=\"url(#clip2402)\" style=\"fill:#000000; stroke:none; fill-opacity:1\" cx=\"139.753\" cy=\"360.216\" r=\"4\"/>\n",
       "<circle clip-path=\"url(#clip2402)\" style=\"fill:#00ffc5; stroke:none; fill-opacity:1\" cx=\"139.753\" cy=\"360.216\" r=\"3\"/>\n",
       "<circle clip-path=\"url(#clip2402)\" style=\"fill:#000000; stroke:none; fill-opacity:1\" cx=\"167.207\" cy=\"332.556\" r=\"4\"/>\n",
       "<circle clip-path=\"url(#clip2402)\" style=\"fill:#00ffc5; stroke:none; fill-opacity:1\" cx=\"167.207\" cy=\"332.556\" r=\"3\"/>\n",
       "<circle clip-path=\"url(#clip2402)\" style=\"fill:#000000; stroke:none; fill-opacity:1\" cx=\"192.517\" cy=\"307.056\" r=\"4\"/>\n",
       "<circle clip-path=\"url(#clip2402)\" style=\"fill:#00ffc5; stroke:none; fill-opacity:1\" cx=\"192.517\" cy=\"307.056\" r=\"3\"/>\n",
       "<circle clip-path=\"url(#clip2402)\" style=\"fill:#000000; stroke:none; fill-opacity:1\" cx=\"219.653\" cy=\"279.717\" r=\"4\"/>\n",
       "<circle clip-path=\"url(#clip2402)\" style=\"fill:#00ffc5; stroke:none; fill-opacity:1\" cx=\"219.653\" cy=\"279.717\" r=\"3\"/>\n",
       "<circle clip-path=\"url(#clip2402)\" style=\"fill:#000000; stroke:none; fill-opacity:1\" cx=\"251.092\" cy=\"248.042\" r=\"4\"/>\n",
       "<circle clip-path=\"url(#clip2402)\" style=\"fill:#00ffc5; stroke:none; fill-opacity:1\" cx=\"251.092\" cy=\"248.042\" r=\"3\"/>\n",
       "<circle clip-path=\"url(#clip2402)\" style=\"fill:#000000; stroke:none; fill-opacity:1\" cx=\"279.031\" cy=\"219.893\" r=\"4\"/>\n",
       "<circle clip-path=\"url(#clip2402)\" style=\"fill:#00ffc5; stroke:none; fill-opacity:1\" cx=\"279.031\" cy=\"219.893\" r=\"3\"/>\n",
       "<circle clip-path=\"url(#clip2402)\" style=\"fill:#000000; stroke:none; fill-opacity:1\" cx=\"303.531\" cy=\"195.209\" r=\"4\"/>\n",
       "<circle clip-path=\"url(#clip2402)\" style=\"fill:#00ffc5; stroke:none; fill-opacity:1\" cx=\"303.531\" cy=\"195.209\" r=\"3\"/>\n",
       "<circle clip-path=\"url(#clip2402)\" style=\"fill:#000000; stroke:none; fill-opacity:1\" cx=\"330.243\" cy=\"168.297\" r=\"4\"/>\n",
       "<circle clip-path=\"url(#clip2402)\" style=\"fill:#00ffc5; stroke:none; fill-opacity:1\" cx=\"330.243\" cy=\"168.297\" r=\"3\"/>\n",
       "<circle clip-path=\"url(#clip2402)\" style=\"fill:#000000; stroke:none; fill-opacity:1\" cx=\"357.114\" cy=\"141.225\" r=\"4\"/>\n",
       "<circle clip-path=\"url(#clip2402)\" style=\"fill:#00ffc5; stroke:none; fill-opacity:1\" cx=\"357.114\" cy=\"141.225\" r=\"3\"/>\n",
       "<circle clip-path=\"url(#clip2402)\" style=\"fill:#000000; stroke:none; fill-opacity:1\" cx=\"386.823\" cy=\"111.293\" r=\"4\"/>\n",
       "<circle clip-path=\"url(#clip2402)\" style=\"fill:#00ffc5; stroke:none; fill-opacity:1\" cx=\"386.823\" cy=\"111.293\" r=\"3\"/>\n",
       "<circle clip-path=\"url(#clip2402)\" style=\"fill:#000000; stroke:none; fill-opacity:1\" cx=\"415.09\" cy=\"82.8142\" r=\"4\"/>\n",
       "<circle clip-path=\"url(#clip2402)\" style=\"fill:#00ffc5; stroke:none; fill-opacity:1\" cx=\"415.09\" cy=\"82.8142\" r=\"3\"/>\n",
       "<circle clip-path=\"url(#clip2402)\" style=\"fill:#000000; stroke:none; fill-opacity:1\" cx=\"444.481\" cy=\"53.2025\" r=\"4\"/>\n",
       "<circle clip-path=\"url(#clip2402)\" style=\"fill:#00ffc5; stroke:none; fill-opacity:1\" cx=\"444.481\" cy=\"53.2025\" r=\"3\"/>\n",
       "<circle clip-path=\"url(#clip2402)\" style=\"fill:#000000; stroke:none; fill-opacity:1\" cx=\"469.222\" cy=\"28.2757\" r=\"4\"/>\n",
       "<circle clip-path=\"url(#clip2402)\" style=\"fill:#00ffc5; stroke:none; fill-opacity:1\" cx=\"469.222\" cy=\"28.2757\" r=\"3\"/>\n",
       "<circle clip-path=\"url(#clip2402)\" style=\"fill:#000000; stroke:none; fill-opacity:1\" cx=\"139.753\" cy=\"27.4636\" r=\"4\"/>\n",
       "<circle clip-path=\"url(#clip2402)\" style=\"fill:#00ffc5; stroke:none; fill-opacity:1\" cx=\"139.753\" cy=\"27.4636\" r=\"3\"/>\n",
       "<circle clip-path=\"url(#clip2402)\" style=\"fill:#000000; stroke:none; fill-opacity:1\" cx=\"167.207\" cy=\"55.1238\" r=\"4\"/>\n",
       "<circle clip-path=\"url(#clip2402)\" style=\"fill:#00ffc5; stroke:none; fill-opacity:1\" cx=\"167.207\" cy=\"55.1238\" r=\"3\"/>\n",
       "<circle clip-path=\"url(#clip2402)\" style=\"fill:#000000; stroke:none; fill-opacity:1\" cx=\"192.517\" cy=\"80.6239\" r=\"4\"/>\n",
       "<circle clip-path=\"url(#clip2402)\" style=\"fill:#00ffc5; stroke:none; fill-opacity:1\" cx=\"192.517\" cy=\"80.6239\" r=\"3\"/>\n",
       "<circle clip-path=\"url(#clip2402)\" style=\"fill:#000000; stroke:none; fill-opacity:1\" cx=\"219.653\" cy=\"107.963\" r=\"4\"/>\n",
       "<circle clip-path=\"url(#clip2402)\" style=\"fill:#00ffc5; stroke:none; fill-opacity:1\" cx=\"219.653\" cy=\"107.963\" r=\"3\"/>\n",
       "<circle clip-path=\"url(#clip2402)\" style=\"fill:#000000; stroke:none; fill-opacity:1\" cx=\"251.092\" cy=\"139.638\" r=\"4\"/>\n",
       "<circle clip-path=\"url(#clip2402)\" style=\"fill:#00ffc5; stroke:none; fill-opacity:1\" cx=\"251.092\" cy=\"139.638\" r=\"3\"/>\n",
       "<circle clip-path=\"url(#clip2402)\" style=\"fill:#000000; stroke:none; fill-opacity:1\" cx=\"279.031\" cy=\"167.786\" r=\"4\"/>\n",
       "<circle clip-path=\"url(#clip2402)\" style=\"fill:#00ffc5; stroke:none; fill-opacity:1\" cx=\"279.031\" cy=\"167.786\" r=\"3\"/>\n",
       "<circle clip-path=\"url(#clip2402)\" style=\"fill:#000000; stroke:none; fill-opacity:1\" cx=\"303.531\" cy=\"192.47\" r=\"4\"/>\n",
       "<circle clip-path=\"url(#clip2402)\" style=\"fill:#00ffc5; stroke:none; fill-opacity:1\" cx=\"303.531\" cy=\"192.47\" r=\"3\"/>\n",
       "<circle clip-path=\"url(#clip2402)\" style=\"fill:#000000; stroke:none; fill-opacity:1\" cx=\"330.243\" cy=\"219.382\" r=\"4\"/>\n",
       "<circle clip-path=\"url(#clip2402)\" style=\"fill:#00ffc5; stroke:none; fill-opacity:1\" cx=\"330.243\" cy=\"219.382\" r=\"3\"/>\n",
       "<circle clip-path=\"url(#clip2402)\" style=\"fill:#000000; stroke:none; fill-opacity:1\" cx=\"357.114\" cy=\"246.455\" r=\"4\"/>\n",
       "<circle clip-path=\"url(#clip2402)\" style=\"fill:#00ffc5; stroke:none; fill-opacity:1\" cx=\"357.114\" cy=\"246.455\" r=\"3\"/>\n",
       "<circle clip-path=\"url(#clip2402)\" style=\"fill:#000000; stroke:none; fill-opacity:1\" cx=\"386.823\" cy=\"276.386\" r=\"4\"/>\n",
       "<circle clip-path=\"url(#clip2402)\" style=\"fill:#00ffc5; stroke:none; fill-opacity:1\" cx=\"386.823\" cy=\"276.386\" r=\"3\"/>\n",
       "<circle clip-path=\"url(#clip2402)\" style=\"fill:#000000; stroke:none; fill-opacity:1\" cx=\"415.09\" cy=\"304.865\" r=\"4\"/>\n",
       "<circle clip-path=\"url(#clip2402)\" style=\"fill:#00ffc5; stroke:none; fill-opacity:1\" cx=\"415.09\" cy=\"304.865\" r=\"3\"/>\n",
       "<circle clip-path=\"url(#clip2402)\" style=\"fill:#000000; stroke:none; fill-opacity:1\" cx=\"444.481\" cy=\"334.477\" r=\"4\"/>\n",
       "<circle clip-path=\"url(#clip2402)\" style=\"fill:#00ffc5; stroke:none; fill-opacity:1\" cx=\"444.481\" cy=\"334.477\" r=\"3\"/>\n",
       "<circle clip-path=\"url(#clip2402)\" style=\"fill:#000000; stroke:none; fill-opacity:1\" cx=\"469.222\" cy=\"359.404\" r=\"4\"/>\n",
       "<circle clip-path=\"url(#clip2402)\" style=\"fill:#00ffc5; stroke:none; fill-opacity:1\" cx=\"469.222\" cy=\"359.404\" r=\"3\"/>\n",
       "<polyline clip-path=\"url(#clip2402)\" style=\"stroke:#007e86; stroke-width:1; stroke-opacity:1; fill:none\" points=\"\n",
       "  34.8456,378.572 84.5868,344.545 114.479,324.096 139.753,306.807 167.207,288.026 192.517,270.712 219.653,252.149 251.092,230.642 279.031,211.53 303.531,194.77 \n",
       "  330.243,176.497 357.114,158.115 386.823,137.792 415.09,118.455 444.481,98.349 469.222,81.424 499.429,60.7605 527.823,41.3362 573.314,10.2171 \n",
       "  \"/>\n",
       "<circle clip-path=\"url(#clip2402)\" style=\"fill:#000000; stroke:none; fill-opacity:1\" cx=\"84.5868\" cy=\"344.545\" r=\"4\"/>\n",
       "<circle clip-path=\"url(#clip2402)\" style=\"fill:#007e86; stroke:none; fill-opacity:1\" cx=\"84.5868\" cy=\"344.545\" r=\"3\"/>\n",
       "<circle clip-path=\"url(#clip2402)\" style=\"fill:#000000; stroke:none; fill-opacity:1\" cx=\"114.479\" cy=\"324.096\" r=\"4\"/>\n",
       "<circle clip-path=\"url(#clip2402)\" style=\"fill:#007e86; stroke:none; fill-opacity:1\" cx=\"114.479\" cy=\"324.096\" r=\"3\"/>\n",
       "<circle clip-path=\"url(#clip2402)\" style=\"fill:#000000; stroke:none; fill-opacity:1\" cx=\"139.753\" cy=\"306.807\" r=\"4\"/>\n",
       "<circle clip-path=\"url(#clip2402)\" style=\"fill:#007e86; stroke:none; fill-opacity:1\" cx=\"139.753\" cy=\"306.807\" r=\"3\"/>\n",
       "<circle clip-path=\"url(#clip2402)\" style=\"fill:#000000; stroke:none; fill-opacity:1\" cx=\"167.207\" cy=\"288.026\" r=\"4\"/>\n",
       "<circle clip-path=\"url(#clip2402)\" style=\"fill:#007e86; stroke:none; fill-opacity:1\" cx=\"167.207\" cy=\"288.026\" r=\"3\"/>\n",
       "<circle clip-path=\"url(#clip2402)\" style=\"fill:#000000; stroke:none; fill-opacity:1\" cx=\"192.517\" cy=\"270.712\" r=\"4\"/>\n",
       "<circle clip-path=\"url(#clip2402)\" style=\"fill:#007e86; stroke:none; fill-opacity:1\" cx=\"192.517\" cy=\"270.712\" r=\"3\"/>\n",
       "<circle clip-path=\"url(#clip2402)\" style=\"fill:#000000; stroke:none; fill-opacity:1\" cx=\"219.653\" cy=\"252.149\" r=\"4\"/>\n",
       "<circle clip-path=\"url(#clip2402)\" style=\"fill:#007e86; stroke:none; fill-opacity:1\" cx=\"219.653\" cy=\"252.149\" r=\"3\"/>\n",
       "<circle clip-path=\"url(#clip2402)\" style=\"fill:#000000; stroke:none; fill-opacity:1\" cx=\"251.092\" cy=\"230.642\" r=\"4\"/>\n",
       "<circle clip-path=\"url(#clip2402)\" style=\"fill:#007e86; stroke:none; fill-opacity:1\" cx=\"251.092\" cy=\"230.642\" r=\"3\"/>\n",
       "<circle clip-path=\"url(#clip2402)\" style=\"fill:#000000; stroke:none; fill-opacity:1\" cx=\"279.031\" cy=\"211.53\" r=\"4\"/>\n",
       "<circle clip-path=\"url(#clip2402)\" style=\"fill:#007e86; stroke:none; fill-opacity:1\" cx=\"279.031\" cy=\"211.53\" r=\"3\"/>\n",
       "<circle clip-path=\"url(#clip2402)\" style=\"fill:#000000; stroke:none; fill-opacity:1\" cx=\"303.531\" cy=\"194.77\" r=\"4\"/>\n",
       "<circle clip-path=\"url(#clip2402)\" style=\"fill:#007e86; stroke:none; fill-opacity:1\" cx=\"303.531\" cy=\"194.77\" r=\"3\"/>\n",
       "<circle clip-path=\"url(#clip2402)\" style=\"fill:#000000; stroke:none; fill-opacity:1\" cx=\"330.243\" cy=\"176.497\" r=\"4\"/>\n",
       "<circle clip-path=\"url(#clip2402)\" style=\"fill:#007e86; stroke:none; fill-opacity:1\" cx=\"330.243\" cy=\"176.497\" r=\"3\"/>\n",
       "<circle clip-path=\"url(#clip2402)\" style=\"fill:#000000; stroke:none; fill-opacity:1\" cx=\"357.114\" cy=\"158.115\" r=\"4\"/>\n",
       "<circle clip-path=\"url(#clip2402)\" style=\"fill:#007e86; stroke:none; fill-opacity:1\" cx=\"357.114\" cy=\"158.115\" r=\"3\"/>\n",
       "<circle clip-path=\"url(#clip2402)\" style=\"fill:#000000; stroke:none; fill-opacity:1\" cx=\"386.823\" cy=\"137.792\" r=\"4\"/>\n",
       "<circle clip-path=\"url(#clip2402)\" style=\"fill:#007e86; stroke:none; fill-opacity:1\" cx=\"386.823\" cy=\"137.792\" r=\"3\"/>\n",
       "<circle clip-path=\"url(#clip2402)\" style=\"fill:#000000; stroke:none; fill-opacity:1\" cx=\"415.09\" cy=\"118.455\" r=\"4\"/>\n",
       "<circle clip-path=\"url(#clip2402)\" style=\"fill:#007e86; stroke:none; fill-opacity:1\" cx=\"415.09\" cy=\"118.455\" r=\"3\"/>\n",
       "<circle clip-path=\"url(#clip2402)\" style=\"fill:#000000; stroke:none; fill-opacity:1\" cx=\"444.481\" cy=\"98.349\" r=\"4\"/>\n",
       "<circle clip-path=\"url(#clip2402)\" style=\"fill:#007e86; stroke:none; fill-opacity:1\" cx=\"444.481\" cy=\"98.349\" r=\"3\"/>\n",
       "<circle clip-path=\"url(#clip2402)\" style=\"fill:#000000; stroke:none; fill-opacity:1\" cx=\"469.222\" cy=\"81.424\" r=\"4\"/>\n",
       "<circle clip-path=\"url(#clip2402)\" style=\"fill:#007e86; stroke:none; fill-opacity:1\" cx=\"469.222\" cy=\"81.424\" r=\"3\"/>\n",
       "<circle clip-path=\"url(#clip2402)\" style=\"fill:#000000; stroke:none; fill-opacity:1\" cx=\"499.429\" cy=\"60.7605\" r=\"4\"/>\n",
       "<circle clip-path=\"url(#clip2402)\" style=\"fill:#007e86; stroke:none; fill-opacity:1\" cx=\"499.429\" cy=\"60.7605\" r=\"3\"/>\n",
       "<circle clip-path=\"url(#clip2402)\" style=\"fill:#000000; stroke:none; fill-opacity:1\" cx=\"527.823\" cy=\"41.3362\" r=\"4\"/>\n",
       "<circle clip-path=\"url(#clip2402)\" style=\"fill:#007e86; stroke:none; fill-opacity:1\" cx=\"527.823\" cy=\"41.3362\" r=\"3\"/>\n",
       "<circle clip-path=\"url(#clip2402)\" style=\"fill:#000000; stroke:none; fill-opacity:1\" cx=\"84.5868\" cy=\"43.1348\" r=\"4\"/>\n",
       "<circle clip-path=\"url(#clip2402)\" style=\"fill:#007e86; stroke:none; fill-opacity:1\" cx=\"84.5868\" cy=\"43.1348\" r=\"3\"/>\n",
       "<circle clip-path=\"url(#clip2402)\" style=\"fill:#000000; stroke:none; fill-opacity:1\" cx=\"114.479\" cy=\"63.5835\" r=\"4\"/>\n",
       "<circle clip-path=\"url(#clip2402)\" style=\"fill:#007e86; stroke:none; fill-opacity:1\" cx=\"114.479\" cy=\"63.5835\" r=\"3\"/>\n",
       "<circle clip-path=\"url(#clip2402)\" style=\"fill:#000000; stroke:none; fill-opacity:1\" cx=\"139.753\" cy=\"80.8726\" r=\"4\"/>\n",
       "<circle clip-path=\"url(#clip2402)\" style=\"fill:#007e86; stroke:none; fill-opacity:1\" cx=\"139.753\" cy=\"80.8726\" r=\"3\"/>\n",
       "<circle clip-path=\"url(#clip2402)\" style=\"fill:#000000; stroke:none; fill-opacity:1\" cx=\"167.207\" cy=\"99.6535\" r=\"4\"/>\n",
       "<circle clip-path=\"url(#clip2402)\" style=\"fill:#007e86; stroke:none; fill-opacity:1\" cx=\"167.207\" cy=\"99.6535\" r=\"3\"/>\n",
       "<circle clip-path=\"url(#clip2402)\" style=\"fill:#000000; stroke:none; fill-opacity:1\" cx=\"192.517\" cy=\"116.968\" r=\"4\"/>\n",
       "<circle clip-path=\"url(#clip2402)\" style=\"fill:#007e86; stroke:none; fill-opacity:1\" cx=\"192.517\" cy=\"116.968\" r=\"3\"/>\n",
       "<circle clip-path=\"url(#clip2402)\" style=\"fill:#000000; stroke:none; fill-opacity:1\" cx=\"219.653\" cy=\"135.53\" r=\"4\"/>\n",
       "<circle clip-path=\"url(#clip2402)\" style=\"fill:#007e86; stroke:none; fill-opacity:1\" cx=\"219.653\" cy=\"135.53\" r=\"3\"/>\n",
       "<circle clip-path=\"url(#clip2402)\" style=\"fill:#000000; stroke:none; fill-opacity:1\" cx=\"251.092\" cy=\"157.037\" r=\"4\"/>\n",
       "<circle clip-path=\"url(#clip2402)\" style=\"fill:#007e86; stroke:none; fill-opacity:1\" cx=\"251.092\" cy=\"157.037\" r=\"3\"/>\n",
       "<circle clip-path=\"url(#clip2402)\" style=\"fill:#000000; stroke:none; fill-opacity:1\" cx=\"279.031\" cy=\"176.15\" r=\"4\"/>\n",
       "<circle clip-path=\"url(#clip2402)\" style=\"fill:#007e86; stroke:none; fill-opacity:1\" cx=\"279.031\" cy=\"176.15\" r=\"3\"/>\n",
       "<circle clip-path=\"url(#clip2402)\" style=\"fill:#000000; stroke:none; fill-opacity:1\" cx=\"303.531\" cy=\"192.91\" r=\"4\"/>\n",
       "<circle clip-path=\"url(#clip2402)\" style=\"fill:#007e86; stroke:none; fill-opacity:1\" cx=\"303.531\" cy=\"192.91\" r=\"3\"/>\n",
       "<circle clip-path=\"url(#clip2402)\" style=\"fill:#000000; stroke:none; fill-opacity:1\" cx=\"330.243\" cy=\"211.183\" r=\"4\"/>\n",
       "<circle clip-path=\"url(#clip2402)\" style=\"fill:#007e86; stroke:none; fill-opacity:1\" cx=\"330.243\" cy=\"211.183\" r=\"3\"/>\n",
       "<circle clip-path=\"url(#clip2402)\" style=\"fill:#000000; stroke:none; fill-opacity:1\" cx=\"357.114\" cy=\"229.565\" r=\"4\"/>\n",
       "<circle clip-path=\"url(#clip2402)\" style=\"fill:#007e86; stroke:none; fill-opacity:1\" cx=\"357.114\" cy=\"229.565\" r=\"3\"/>\n",
       "<circle clip-path=\"url(#clip2402)\" style=\"fill:#000000; stroke:none; fill-opacity:1\" cx=\"386.823\" cy=\"249.888\" r=\"4\"/>\n",
       "<circle clip-path=\"url(#clip2402)\" style=\"fill:#007e86; stroke:none; fill-opacity:1\" cx=\"386.823\" cy=\"249.888\" r=\"3\"/>\n",
       "<circle clip-path=\"url(#clip2402)\" style=\"fill:#000000; stroke:none; fill-opacity:1\" cx=\"415.09\" cy=\"269.225\" r=\"4\"/>\n",
       "<circle clip-path=\"url(#clip2402)\" style=\"fill:#007e86; stroke:none; fill-opacity:1\" cx=\"415.09\" cy=\"269.225\" r=\"3\"/>\n",
       "<circle clip-path=\"url(#clip2402)\" style=\"fill:#000000; stroke:none; fill-opacity:1\" cx=\"444.481\" cy=\"289.331\" r=\"4\"/>\n",
       "<circle clip-path=\"url(#clip2402)\" style=\"fill:#007e86; stroke:none; fill-opacity:1\" cx=\"444.481\" cy=\"289.331\" r=\"3\"/>\n",
       "<circle clip-path=\"url(#clip2402)\" style=\"fill:#000000; stroke:none; fill-opacity:1\" cx=\"469.222\" cy=\"306.256\" r=\"4\"/>\n",
       "<circle clip-path=\"url(#clip2402)\" style=\"fill:#007e86; stroke:none; fill-opacity:1\" cx=\"469.222\" cy=\"306.256\" r=\"3\"/>\n",
       "<circle clip-path=\"url(#clip2402)\" style=\"fill:#000000; stroke:none; fill-opacity:1\" cx=\"499.429\" cy=\"326.919\" r=\"4\"/>\n",
       "<circle clip-path=\"url(#clip2402)\" style=\"fill:#007e86; stroke:none; fill-opacity:1\" cx=\"499.429\" cy=\"326.919\" r=\"3\"/>\n",
       "<circle clip-path=\"url(#clip2402)\" style=\"fill:#000000; stroke:none; fill-opacity:1\" cx=\"527.823\" cy=\"346.343\" r=\"4\"/>\n",
       "<circle clip-path=\"url(#clip2402)\" style=\"fill:#007e86; stroke:none; fill-opacity:1\" cx=\"527.823\" cy=\"346.343\" r=\"3\"/>\n",
       "<polyline clip-path=\"url(#clip2402)\" style=\"stroke:#ffff61; stroke-width:1; stroke-opacity:1; fill:none\" points=\"\n",
       "  34.8456,460.252 84.5868,411.18 114.479,381.689 139.753,356.756 167.207,329.671 192.517,304.701 219.653,277.931 251.092,246.915 279.031,219.351 303.531,195.181 \n",
       "  330.243,168.828 357.114,142.319 386.823,113.01 415.09,85.1233 444.481,56.1274 469.222,31.719 499.429,1.9191 527.823,-26.0937 573.314,-70.9723 \n",
       "  \"/>\n",
       "<circle clip-path=\"url(#clip2402)\" style=\"fill:#000000; stroke:none; fill-opacity:1\" cx=\"139.753\" cy=\"356.756\" r=\"4\"/>\n",
       "<circle clip-path=\"url(#clip2402)\" style=\"fill:#ffff61; stroke:none; fill-opacity:1\" cx=\"139.753\" cy=\"356.756\" r=\"3\"/>\n",
       "<circle clip-path=\"url(#clip2402)\" style=\"fill:#000000; stroke:none; fill-opacity:1\" cx=\"167.207\" cy=\"329.671\" r=\"4\"/>\n",
       "<circle clip-path=\"url(#clip2402)\" style=\"fill:#ffff61; stroke:none; fill-opacity:1\" cx=\"167.207\" cy=\"329.671\" r=\"3\"/>\n",
       "<circle clip-path=\"url(#clip2402)\" style=\"fill:#000000; stroke:none; fill-opacity:1\" cx=\"192.517\" cy=\"304.701\" r=\"4\"/>\n",
       "<circle clip-path=\"url(#clip2402)\" style=\"fill:#ffff61; stroke:none; fill-opacity:1\" cx=\"192.517\" cy=\"304.701\" r=\"3\"/>\n",
       "<circle clip-path=\"url(#clip2402)\" style=\"fill:#000000; stroke:none; fill-opacity:1\" cx=\"219.653\" cy=\"277.931\" r=\"4\"/>\n",
       "<circle clip-path=\"url(#clip2402)\" style=\"fill:#ffff61; stroke:none; fill-opacity:1\" cx=\"219.653\" cy=\"277.931\" r=\"3\"/>\n",
       "<circle clip-path=\"url(#clip2402)\" style=\"fill:#000000; stroke:none; fill-opacity:1\" cx=\"251.092\" cy=\"246.915\" r=\"4\"/>\n",
       "<circle clip-path=\"url(#clip2402)\" style=\"fill:#ffff61; stroke:none; fill-opacity:1\" cx=\"251.092\" cy=\"246.915\" r=\"3\"/>\n",
       "<circle clip-path=\"url(#clip2402)\" style=\"fill:#000000; stroke:none; fill-opacity:1\" cx=\"279.031\" cy=\"219.351\" r=\"4\"/>\n",
       "<circle clip-path=\"url(#clip2402)\" style=\"fill:#ffff61; stroke:none; fill-opacity:1\" cx=\"279.031\" cy=\"219.351\" r=\"3\"/>\n",
       "<circle clip-path=\"url(#clip2402)\" style=\"fill:#000000; stroke:none; fill-opacity:1\" cx=\"303.531\" cy=\"195.181\" r=\"4\"/>\n",
       "<circle clip-path=\"url(#clip2402)\" style=\"fill:#ffff61; stroke:none; fill-opacity:1\" cx=\"303.531\" cy=\"195.181\" r=\"3\"/>\n",
       "<circle clip-path=\"url(#clip2402)\" style=\"fill:#000000; stroke:none; fill-opacity:1\" cx=\"330.243\" cy=\"168.828\" r=\"4\"/>\n",
       "<circle clip-path=\"url(#clip2402)\" style=\"fill:#ffff61; stroke:none; fill-opacity:1\" cx=\"330.243\" cy=\"168.828\" r=\"3\"/>\n",
       "<circle clip-path=\"url(#clip2402)\" style=\"fill:#000000; stroke:none; fill-opacity:1\" cx=\"357.114\" cy=\"142.319\" r=\"4\"/>\n",
       "<circle clip-path=\"url(#clip2402)\" style=\"fill:#ffff61; stroke:none; fill-opacity:1\" cx=\"357.114\" cy=\"142.319\" r=\"3\"/>\n",
       "<circle clip-path=\"url(#clip2402)\" style=\"fill:#000000; stroke:none; fill-opacity:1\" cx=\"386.823\" cy=\"113.01\" r=\"4\"/>\n",
       "<circle clip-path=\"url(#clip2402)\" style=\"fill:#ffff61; stroke:none; fill-opacity:1\" cx=\"386.823\" cy=\"113.01\" r=\"3\"/>\n",
       "<circle clip-path=\"url(#clip2402)\" style=\"fill:#000000; stroke:none; fill-opacity:1\" cx=\"415.09\" cy=\"85.1233\" r=\"4\"/>\n",
       "<circle clip-path=\"url(#clip2402)\" style=\"fill:#ffff61; stroke:none; fill-opacity:1\" cx=\"415.09\" cy=\"85.1233\" r=\"3\"/>\n",
       "<circle clip-path=\"url(#clip2402)\" style=\"fill:#000000; stroke:none; fill-opacity:1\" cx=\"444.481\" cy=\"56.1274\" r=\"4\"/>\n",
       "<circle clip-path=\"url(#clip2402)\" style=\"fill:#ffff61; stroke:none; fill-opacity:1\" cx=\"444.481\" cy=\"56.1274\" r=\"3\"/>\n",
       "<circle clip-path=\"url(#clip2402)\" style=\"fill:#000000; stroke:none; fill-opacity:1\" cx=\"469.222\" cy=\"31.719\" r=\"4\"/>\n",
       "<circle clip-path=\"url(#clip2402)\" style=\"fill:#ffff61; stroke:none; fill-opacity:1\" cx=\"469.222\" cy=\"31.719\" r=\"3\"/>\n",
       "<circle clip-path=\"url(#clip2402)\" style=\"fill:#000000; stroke:none; fill-opacity:1\" cx=\"139.753\" cy=\"30.9239\" r=\"4\"/>\n",
       "<circle clip-path=\"url(#clip2402)\" style=\"fill:#ffff61; stroke:none; fill-opacity:1\" cx=\"139.753\" cy=\"30.9239\" r=\"3\"/>\n",
       "<circle clip-path=\"url(#clip2402)\" style=\"fill:#000000; stroke:none; fill-opacity:1\" cx=\"167.207\" cy=\"58.0087\" r=\"4\"/>\n",
       "<circle clip-path=\"url(#clip2402)\" style=\"fill:#ffff61; stroke:none; fill-opacity:1\" cx=\"167.207\" cy=\"58.0087\" r=\"3\"/>\n",
       "<circle clip-path=\"url(#clip2402)\" style=\"fill:#000000; stroke:none; fill-opacity:1\" cx=\"192.517\" cy=\"82.9785\" r=\"4\"/>\n",
       "<circle clip-path=\"url(#clip2402)\" style=\"fill:#ffff61; stroke:none; fill-opacity:1\" cx=\"192.517\" cy=\"82.9785\" r=\"3\"/>\n",
       "<circle clip-path=\"url(#clip2402)\" style=\"fill:#000000; stroke:none; fill-opacity:1\" cx=\"219.653\" cy=\"109.749\" r=\"4\"/>\n",
       "<circle clip-path=\"url(#clip2402)\" style=\"fill:#ffff61; stroke:none; fill-opacity:1\" cx=\"219.653\" cy=\"109.749\" r=\"3\"/>\n",
       "<circle clip-path=\"url(#clip2402)\" style=\"fill:#000000; stroke:none; fill-opacity:1\" cx=\"251.092\" cy=\"140.765\" r=\"4\"/>\n",
       "<circle clip-path=\"url(#clip2402)\" style=\"fill:#ffff61; stroke:none; fill-opacity:1\" cx=\"251.092\" cy=\"140.765\" r=\"3\"/>\n",
       "<circle clip-path=\"url(#clip2402)\" style=\"fill:#000000; stroke:none; fill-opacity:1\" cx=\"279.031\" cy=\"168.328\" r=\"4\"/>\n",
       "<circle clip-path=\"url(#clip2402)\" style=\"fill:#ffff61; stroke:none; fill-opacity:1\" cx=\"279.031\" cy=\"168.328\" r=\"3\"/>\n",
       "<circle clip-path=\"url(#clip2402)\" style=\"fill:#000000; stroke:none; fill-opacity:1\" cx=\"303.531\" cy=\"192.499\" r=\"4\"/>\n",
       "<circle clip-path=\"url(#clip2402)\" style=\"fill:#ffff61; stroke:none; fill-opacity:1\" cx=\"303.531\" cy=\"192.499\" r=\"3\"/>\n",
       "<circle clip-path=\"url(#clip2402)\" style=\"fill:#000000; stroke:none; fill-opacity:1\" cx=\"330.243\" cy=\"218.851\" r=\"4\"/>\n",
       "<circle clip-path=\"url(#clip2402)\" style=\"fill:#ffff61; stroke:none; fill-opacity:1\" cx=\"330.243\" cy=\"218.851\" r=\"3\"/>\n",
       "<circle clip-path=\"url(#clip2402)\" style=\"fill:#000000; stroke:none; fill-opacity:1\" cx=\"357.114\" cy=\"245.36\" r=\"4\"/>\n",
       "<circle clip-path=\"url(#clip2402)\" style=\"fill:#ffff61; stroke:none; fill-opacity:1\" cx=\"357.114\" cy=\"245.36\" r=\"3\"/>\n",
       "<circle clip-path=\"url(#clip2402)\" style=\"fill:#000000; stroke:none; fill-opacity:1\" cx=\"386.823\" cy=\"274.669\" r=\"4\"/>\n",
       "<circle clip-path=\"url(#clip2402)\" style=\"fill:#ffff61; stroke:none; fill-opacity:1\" cx=\"386.823\" cy=\"274.669\" r=\"3\"/>\n",
       "<circle clip-path=\"url(#clip2402)\" style=\"fill:#000000; stroke:none; fill-opacity:1\" cx=\"415.09\" cy=\"302.556\" r=\"4\"/>\n",
       "<circle clip-path=\"url(#clip2402)\" style=\"fill:#ffff61; stroke:none; fill-opacity:1\" cx=\"415.09\" cy=\"302.556\" r=\"3\"/>\n",
       "<circle clip-path=\"url(#clip2402)\" style=\"fill:#000000; stroke:none; fill-opacity:1\" cx=\"444.481\" cy=\"331.552\" r=\"4\"/>\n",
       "<circle clip-path=\"url(#clip2402)\" style=\"fill:#ffff61; stroke:none; fill-opacity:1\" cx=\"444.481\" cy=\"331.552\" r=\"3\"/>\n",
       "<circle clip-path=\"url(#clip2402)\" style=\"fill:#000000; stroke:none; fill-opacity:1\" cx=\"469.222\" cy=\"355.961\" r=\"4\"/>\n",
       "<circle clip-path=\"url(#clip2402)\" style=\"fill:#ffff61; stroke:none; fill-opacity:1\" cx=\"469.222\" cy=\"355.961\" r=\"3\"/>\n",
       "</svg>\n"
      ]
     },
     "execution_count": 11,
     "metadata": {},
     "output_type": "execute_result"
    }
   ],
   "source": [
    "# And now add a few random vectors and their reflections to it\n",
    "num_vectors = 3\n",
    "for i in 1:num_vectors\n",
    "    v_i = rand(2)\n",
    "    plot_2D_vector(v_i, M)\n",
    "end\n",
    "fig"
   ]
  },
  {
   "cell_type": "markdown",
   "metadata": {},
   "source": [
    "Above, each vector `v_i` is plotted in the same color as the vector `M*v_i` where `v_i` is plotted as a series of dots overlaid with a line and `M*v_i` is plotted as just a series of dots.\n",
    "\n",
    "From the above, we can see that applying `M` to a vector causes it to be flipped across the vertical line centered at `0`.\n",
    "\n",
    "What are the eigenvectors of `M` and what happens to them when we apply `M` to them?\n",
    "\n",
    "Let's perform an eigendecomposition on `M`,"
   ]
  },
  {
   "cell_type": "code",
   "execution_count": 12,
   "metadata": {},
   "outputs": [
    {
     "data": {
      "text/plain": [
       "Base.LinAlg.Eigen{Float64,Float64,Array{Float64,2},Array{Float64,1}}([-1.0, 1.0], [-1.0 0.0; 0.0 1.0])"
      ]
     },
     "execution_count": 12,
     "metadata": {},
     "output_type": "execute_result"
    }
   ],
   "source": [
    "Meig = eigfact(M)"
   ]
  },
  {
   "cell_type": "markdown",
   "metadata": {},
   "source": [
    "grab the first eigenvector of `M`,"
   ]
  },
  {
   "cell_type": "code",
   "execution_count": 13,
   "metadata": {},
   "outputs": [
    {
     "data": {
      "text/plain": [
       "2-element Array{Float64,1}:\n",
       " -1.0\n",
       "  0.0"
      ]
     },
     "execution_count": 13,
     "metadata": {},
     "output_type": "execute_result"
    }
   ],
   "source": [
    "eigvec1 = Meig[:vectors][:, 1]"
   ]
  },
  {
   "cell_type": "markdown",
   "metadata": {},
   "source": [
    "and plot!"
   ]
  },
  {
   "cell_type": "code",
   "execution_count": 14,
   "metadata": {},
   "outputs": [
    {
     "data": {
      "image/svg+xml": [
       "<?xml version=\"1.0\" encoding=\"utf-8\"?>\n",
       "<svg xmlns=\"http://www.w3.org/2000/svg\" xmlns:xlink=\"http://www.w3.org/1999/xlink\" width=\"600\" height=\"400\" viewBox=\"0 0 600 400\">\n",
       "<defs>\n",
       "  <clipPath id=\"clip2600\">\n",
       "    <rect x=\"0\" y=\"0\" width=\"600\" height=\"400\"/>\n",
       "  </clipPath>\n",
       "</defs>\n",
       "<polygon clip-path=\"url(#clip2600)\" points=\"\n",
       "0,400 600,400 600,0 0,0 \n",
       "  \" fill=\"#ffffff\" fill-opacity=\"1\"/>\n",
       "<defs>\n",
       "  <clipPath id=\"clip2601\">\n",
       "    <rect x=\"120\" y=\"0\" width=\"421\" height=\"400\"/>\n",
       "  </clipPath>\n",
       "</defs>\n",
       "<polygon clip-path=\"url(#clip2600)\" points=\"\n",
       "29.4661,375.869 580.315,375.869 580.315,11.811 29.4661,11.811 \n",
       "  \" fill=\"#ffffff\" fill-opacity=\"1\"/>\n",
       "<defs>\n",
       "  <clipPath id=\"clip2602\">\n",
       "    <rect x=\"29\" y=\"11\" width=\"552\" height=\"365\"/>\n",
       "  </clipPath>\n",
       "</defs>\n",
       "<polyline clip-path=\"url(#clip2602)\" style=\"stroke:#000000; stroke-width:0.5; stroke-opacity:0.1; fill:none\" points=\"\n",
       "  29.4661,375.869 29.4661,11.811 \n",
       "  \"/>\n",
       "<polyline clip-path=\"url(#clip2602)\" style=\"stroke:#000000; stroke-width:0.5; stroke-opacity:0.1; fill:none\" points=\"\n",
       "  167.178,375.869 167.178,11.811 \n",
       "  \"/>\n",
       "<polyline clip-path=\"url(#clip2602)\" style=\"stroke:#000000; stroke-width:0.5; stroke-opacity:0.1; fill:none\" points=\"\n",
       "  304.891,375.869 304.891,11.811 \n",
       "  \"/>\n",
       "<polyline clip-path=\"url(#clip2602)\" style=\"stroke:#000000; stroke-width:0.5; stroke-opacity:0.1; fill:none\" points=\"\n",
       "  442.603,375.869 442.603,11.811 \n",
       "  \"/>\n",
       "<polyline clip-path=\"url(#clip2602)\" style=\"stroke:#000000; stroke-width:0.5; stroke-opacity:0.1; fill:none\" points=\"\n",
       "  580.315,375.869 580.315,11.811 \n",
       "  \"/>\n",
       "<polyline clip-path=\"url(#clip2602)\" style=\"stroke:#000000; stroke-width:0.5; stroke-opacity:0.1; fill:none\" points=\"\n",
       "  29.4661,375.869 580.315,375.869 \n",
       "  \"/>\n",
       "<polyline clip-path=\"url(#clip2602)\" style=\"stroke:#000000; stroke-width:0.5; stroke-opacity:0.1; fill:none\" points=\"\n",
       "  29.4661,284.854 580.315,284.854 \n",
       "  \"/>\n",
       "<polyline clip-path=\"url(#clip2602)\" style=\"stroke:#000000; stroke-width:0.5; stroke-opacity:0.1; fill:none\" points=\"\n",
       "  29.4661,193.84 580.315,193.84 \n",
       "  \"/>\n",
       "<polyline clip-path=\"url(#clip2602)\" style=\"stroke:#000000; stroke-width:0.5; stroke-opacity:0.1; fill:none\" points=\"\n",
       "  29.4661,102.825 580.315,102.825 \n",
       "  \"/>\n",
       "<polyline clip-path=\"url(#clip2602)\" style=\"stroke:#000000; stroke-width:0.5; stroke-opacity:0.1; fill:none\" points=\"\n",
       "  29.4661,11.811 580.315,11.811 \n",
       "  \"/>\n",
       "<polyline clip-path=\"url(#clip2600)\" style=\"stroke:#000000; stroke-width:1; stroke-opacity:1; fill:none\" points=\"\n",
       "  29.4661,375.869 580.315,375.869 \n",
       "  \"/>\n",
       "<polyline clip-path=\"url(#clip2600)\" style=\"stroke:#000000; stroke-width:1; stroke-opacity:1; fill:none\" points=\"\n",
       "  29.4661,375.869 29.4661,11.811 \n",
       "  \"/>\n",
       "<polyline clip-path=\"url(#clip2600)\" style=\"stroke:#000000; stroke-width:1; stroke-opacity:1; fill:none\" points=\"\n",
       "  29.4661,375.869 29.4661,370.408 \n",
       "  \"/>\n",
       "<polyline clip-path=\"url(#clip2600)\" style=\"stroke:#000000; stroke-width:1; stroke-opacity:1; fill:none\" points=\"\n",
       "  167.178,375.869 167.178,370.408 \n",
       "  \"/>\n",
       "<polyline clip-path=\"url(#clip2600)\" style=\"stroke:#000000; stroke-width:1; stroke-opacity:1; fill:none\" points=\"\n",
       "  304.891,375.869 304.891,370.408 \n",
       "  \"/>\n",
       "<polyline clip-path=\"url(#clip2600)\" style=\"stroke:#000000; stroke-width:1; stroke-opacity:1; fill:none\" points=\"\n",
       "  442.603,375.869 442.603,370.408 \n",
       "  \"/>\n",
       "<polyline clip-path=\"url(#clip2600)\" style=\"stroke:#000000; stroke-width:1; stroke-opacity:1; fill:none\" points=\"\n",
       "  580.315,375.869 580.315,370.408 \n",
       "  \"/>\n",
       "<polyline clip-path=\"url(#clip2600)\" style=\"stroke:#000000; stroke-width:1; stroke-opacity:1; fill:none\" points=\"\n",
       "  29.4661,375.869 37.7289,375.869 \n",
       "  \"/>\n",
       "<polyline clip-path=\"url(#clip2600)\" style=\"stroke:#000000; stroke-width:1; stroke-opacity:1; fill:none\" points=\"\n",
       "  29.4661,284.854 37.7289,284.854 \n",
       "  \"/>\n",
       "<polyline clip-path=\"url(#clip2600)\" style=\"stroke:#000000; stroke-width:1; stroke-opacity:1; fill:none\" points=\"\n",
       "  29.4661,193.84 37.7289,193.84 \n",
       "  \"/>\n",
       "<polyline clip-path=\"url(#clip2600)\" style=\"stroke:#000000; stroke-width:1; stroke-opacity:1; fill:none\" points=\"\n",
       "  29.4661,102.825 37.7289,102.825 \n",
       "  \"/>\n",
       "<polyline clip-path=\"url(#clip2600)\" style=\"stroke:#000000; stroke-width:1; stroke-opacity:1; fill:none\" points=\"\n",
       "  29.4661,11.811 37.7289,11.811 \n",
       "  \"/>\n",
       "<g clip-path=\"url(#clip2600)\">\n",
       "<text style=\"fill:#000000; fill-opacity:1; font-family:Arial,Helvetica Neue,Helvetica,sans-serif; font-size:12; text-anchor:middle;\" transform=\"rotate(0, 29.4661, 389.669)\" x=\"29.4661\" y=\"389.669\">-2</text>\n",
       "</g>\n",
       "<g clip-path=\"url(#clip2600)\">\n",
       "<text style=\"fill:#000000; fill-opacity:1; font-family:Arial,Helvetica Neue,Helvetica,sans-serif; font-size:12; text-anchor:middle;\" transform=\"rotate(0, 167.178, 389.669)\" x=\"167.178\" y=\"389.669\">-1</text>\n",
       "</g>\n",
       "<g clip-path=\"url(#clip2600)\">\n",
       "<text style=\"fill:#000000; fill-opacity:1; font-family:Arial,Helvetica Neue,Helvetica,sans-serif; font-size:12; text-anchor:middle;\" transform=\"rotate(0, 304.891, 389.669)\" x=\"304.891\" y=\"389.669\">0</text>\n",
       "</g>\n",
       "<g clip-path=\"url(#clip2600)\">\n",
       "<text style=\"fill:#000000; fill-opacity:1; font-family:Arial,Helvetica Neue,Helvetica,sans-serif; font-size:12; text-anchor:middle;\" transform=\"rotate(0, 442.603, 389.669)\" x=\"442.603\" y=\"389.669\">1</text>\n",
       "</g>\n",
       "<g clip-path=\"url(#clip2600)\">\n",
       "<text style=\"fill:#000000; fill-opacity:1; font-family:Arial,Helvetica Neue,Helvetica,sans-serif; font-size:12; text-anchor:middle;\" transform=\"rotate(0, 580.315, 389.669)\" x=\"580.315\" y=\"389.669\">2</text>\n",
       "</g>\n",
       "<g clip-path=\"url(#clip2600)\">\n",
       "<text style=\"fill:#000000; fill-opacity:1; font-family:Arial,Helvetica Neue,Helvetica,sans-serif; font-size:12; text-anchor:end;\" transform=\"rotate(0, 23.4661, 380.369)\" x=\"23.4661\" y=\"380.369\">-2</text>\n",
       "</g>\n",
       "<g clip-path=\"url(#clip2600)\">\n",
       "<text style=\"fill:#000000; fill-opacity:1; font-family:Arial,Helvetica Neue,Helvetica,sans-serif; font-size:12; text-anchor:end;\" transform=\"rotate(0, 23.4661, 289.354)\" x=\"23.4661\" y=\"289.354\">-1</text>\n",
       "</g>\n",
       "<g clip-path=\"url(#clip2600)\">\n",
       "<text style=\"fill:#000000; fill-opacity:1; font-family:Arial,Helvetica Neue,Helvetica,sans-serif; font-size:12; text-anchor:end;\" transform=\"rotate(0, 23.4661, 198.34)\" x=\"23.4661\" y=\"198.34\">0</text>\n",
       "</g>\n",
       "<g clip-path=\"url(#clip2600)\">\n",
       "<text style=\"fill:#000000; fill-opacity:1; font-family:Arial,Helvetica Neue,Helvetica,sans-serif; font-size:12; text-anchor:end;\" transform=\"rotate(0, 23.4661, 107.325)\" x=\"23.4661\" y=\"107.325\">1</text>\n",
       "</g>\n",
       "<g clip-path=\"url(#clip2600)\">\n",
       "<text style=\"fill:#000000; fill-opacity:1; font-family:Arial,Helvetica Neue,Helvetica,sans-serif; font-size:12; text-anchor:end;\" transform=\"rotate(0, 23.4661, 16.311)\" x=\"23.4661\" y=\"16.311\">2</text>\n",
       "</g>\n",
       "<polyline clip-path=\"url(#clip2602)\" style=\"stroke:#a78600; stroke-width:1; stroke-opacity:1; fill:none\" points=\"\n",
       "  34.8456,193.84 84.5868,193.84 114.479,193.84 139.753,193.84 167.207,193.84 192.517,193.84 219.653,193.84 251.092,193.84 279.031,193.84 303.531,193.84 \n",
       "  330.243,193.84 357.114,193.84 386.823,193.84 415.09,193.84 444.481,193.84 469.222,193.84 499.429,193.84 527.823,193.84 573.314,193.84 \n",
       "  \"/>\n",
       "<circle clip-path=\"url(#clip2602)\" style=\"fill:#000000; stroke:none; fill-opacity:1\" cx=\"34.8456\" cy=\"193.84\" r=\"4\"/>\n",
       "<circle clip-path=\"url(#clip2602)\" style=\"fill:#a78600; stroke:none; fill-opacity:1\" cx=\"34.8456\" cy=\"193.84\" r=\"3\"/>\n",
       "<circle clip-path=\"url(#clip2602)\" style=\"fill:#000000; stroke:none; fill-opacity:1\" cx=\"84.5868\" cy=\"193.84\" r=\"4\"/>\n",
       "<circle clip-path=\"url(#clip2602)\" style=\"fill:#a78600; stroke:none; fill-opacity:1\" cx=\"84.5868\" cy=\"193.84\" r=\"3\"/>\n",
       "<circle clip-path=\"url(#clip2602)\" style=\"fill:#000000; stroke:none; fill-opacity:1\" cx=\"114.479\" cy=\"193.84\" r=\"4\"/>\n",
       "<circle clip-path=\"url(#clip2602)\" style=\"fill:#a78600; stroke:none; fill-opacity:1\" cx=\"114.479\" cy=\"193.84\" r=\"3\"/>\n",
       "<circle clip-path=\"url(#clip2602)\" style=\"fill:#000000; stroke:none; fill-opacity:1\" cx=\"139.753\" cy=\"193.84\" r=\"4\"/>\n",
       "<circle clip-path=\"url(#clip2602)\" style=\"fill:#a78600; stroke:none; fill-opacity:1\" cx=\"139.753\" cy=\"193.84\" r=\"3\"/>\n",
       "<circle clip-path=\"url(#clip2602)\" style=\"fill:#000000; stroke:none; fill-opacity:1\" cx=\"167.207\" cy=\"193.84\" r=\"4\"/>\n",
       "<circle clip-path=\"url(#clip2602)\" style=\"fill:#a78600; stroke:none; fill-opacity:1\" cx=\"167.207\" cy=\"193.84\" r=\"3\"/>\n",
       "<circle clip-path=\"url(#clip2602)\" style=\"fill:#000000; stroke:none; fill-opacity:1\" cx=\"192.517\" cy=\"193.84\" r=\"4\"/>\n",
       "<circle clip-path=\"url(#clip2602)\" style=\"fill:#a78600; stroke:none; fill-opacity:1\" cx=\"192.517\" cy=\"193.84\" r=\"3\"/>\n",
       "<circle clip-path=\"url(#clip2602)\" style=\"fill:#000000; stroke:none; fill-opacity:1\" cx=\"219.653\" cy=\"193.84\" r=\"4\"/>\n",
       "<circle clip-path=\"url(#clip2602)\" style=\"fill:#a78600; stroke:none; fill-opacity:1\" cx=\"219.653\" cy=\"193.84\" r=\"3\"/>\n",
       "<circle clip-path=\"url(#clip2602)\" style=\"fill:#000000; stroke:none; fill-opacity:1\" cx=\"251.092\" cy=\"193.84\" r=\"4\"/>\n",
       "<circle clip-path=\"url(#clip2602)\" style=\"fill:#a78600; stroke:none; fill-opacity:1\" cx=\"251.092\" cy=\"193.84\" r=\"3\"/>\n",
       "<circle clip-path=\"url(#clip2602)\" style=\"fill:#000000; stroke:none; fill-opacity:1\" cx=\"279.031\" cy=\"193.84\" r=\"4\"/>\n",
       "<circle clip-path=\"url(#clip2602)\" style=\"fill:#a78600; stroke:none; fill-opacity:1\" cx=\"279.031\" cy=\"193.84\" r=\"3\"/>\n",
       "<circle clip-path=\"url(#clip2602)\" style=\"fill:#000000; stroke:none; fill-opacity:1\" cx=\"303.531\" cy=\"193.84\" r=\"4\"/>\n",
       "<circle clip-path=\"url(#clip2602)\" style=\"fill:#a78600; stroke:none; fill-opacity:1\" cx=\"303.531\" cy=\"193.84\" r=\"3\"/>\n",
       "<circle clip-path=\"url(#clip2602)\" style=\"fill:#000000; stroke:none; fill-opacity:1\" cx=\"330.243\" cy=\"193.84\" r=\"4\"/>\n",
       "<circle clip-path=\"url(#clip2602)\" style=\"fill:#a78600; stroke:none; fill-opacity:1\" cx=\"330.243\" cy=\"193.84\" r=\"3\"/>\n",
       "<circle clip-path=\"url(#clip2602)\" style=\"fill:#000000; stroke:none; fill-opacity:1\" cx=\"357.114\" cy=\"193.84\" r=\"4\"/>\n",
       "<circle clip-path=\"url(#clip2602)\" style=\"fill:#a78600; stroke:none; fill-opacity:1\" cx=\"357.114\" cy=\"193.84\" r=\"3\"/>\n",
       "<circle clip-path=\"url(#clip2602)\" style=\"fill:#000000; stroke:none; fill-opacity:1\" cx=\"386.823\" cy=\"193.84\" r=\"4\"/>\n",
       "<circle clip-path=\"url(#clip2602)\" style=\"fill:#a78600; stroke:none; fill-opacity:1\" cx=\"386.823\" cy=\"193.84\" r=\"3\"/>\n",
       "<circle clip-path=\"url(#clip2602)\" style=\"fill:#000000; stroke:none; fill-opacity:1\" cx=\"415.09\" cy=\"193.84\" r=\"4\"/>\n",
       "<circle clip-path=\"url(#clip2602)\" style=\"fill:#a78600; stroke:none; fill-opacity:1\" cx=\"415.09\" cy=\"193.84\" r=\"3\"/>\n",
       "<circle clip-path=\"url(#clip2602)\" style=\"fill:#000000; stroke:none; fill-opacity:1\" cx=\"444.481\" cy=\"193.84\" r=\"4\"/>\n",
       "<circle clip-path=\"url(#clip2602)\" style=\"fill:#a78600; stroke:none; fill-opacity:1\" cx=\"444.481\" cy=\"193.84\" r=\"3\"/>\n",
       "<circle clip-path=\"url(#clip2602)\" style=\"fill:#000000; stroke:none; fill-opacity:1\" cx=\"469.222\" cy=\"193.84\" r=\"4\"/>\n",
       "<circle clip-path=\"url(#clip2602)\" style=\"fill:#a78600; stroke:none; fill-opacity:1\" cx=\"469.222\" cy=\"193.84\" r=\"3\"/>\n",
       "<circle clip-path=\"url(#clip2602)\" style=\"fill:#000000; stroke:none; fill-opacity:1\" cx=\"499.429\" cy=\"193.84\" r=\"4\"/>\n",
       "<circle clip-path=\"url(#clip2602)\" style=\"fill:#a78600; stroke:none; fill-opacity:1\" cx=\"499.429\" cy=\"193.84\" r=\"3\"/>\n",
       "<circle clip-path=\"url(#clip2602)\" style=\"fill:#000000; stroke:none; fill-opacity:1\" cx=\"527.823\" cy=\"193.84\" r=\"4\"/>\n",
       "<circle clip-path=\"url(#clip2602)\" style=\"fill:#a78600; stroke:none; fill-opacity:1\" cx=\"527.823\" cy=\"193.84\" r=\"3\"/>\n",
       "<circle clip-path=\"url(#clip2602)\" style=\"fill:#000000; stroke:none; fill-opacity:1\" cx=\"573.314\" cy=\"193.84\" r=\"4\"/>\n",
       "<circle clip-path=\"url(#clip2602)\" style=\"fill:#a78600; stroke:none; fill-opacity:1\" cx=\"573.314\" cy=\"193.84\" r=\"3\"/>\n",
       "<circle clip-path=\"url(#clip2602)\" style=\"fill:#000000; stroke:none; fill-opacity:1\" cx=\"34.8456\" cy=\"193.84\" r=\"4\"/>\n",
       "<circle clip-path=\"url(#clip2602)\" style=\"fill:#a78600; stroke:none; fill-opacity:1\" cx=\"34.8456\" cy=\"193.84\" r=\"3\"/>\n",
       "<circle clip-path=\"url(#clip2602)\" style=\"fill:#000000; stroke:none; fill-opacity:1\" cx=\"84.5868\" cy=\"193.84\" r=\"4\"/>\n",
       "<circle clip-path=\"url(#clip2602)\" style=\"fill:#a78600; stroke:none; fill-opacity:1\" cx=\"84.5868\" cy=\"193.84\" r=\"3\"/>\n",
       "<circle clip-path=\"url(#clip2602)\" style=\"fill:#000000; stroke:none; fill-opacity:1\" cx=\"114.479\" cy=\"193.84\" r=\"4\"/>\n",
       "<circle clip-path=\"url(#clip2602)\" style=\"fill:#a78600; stroke:none; fill-opacity:1\" cx=\"114.479\" cy=\"193.84\" r=\"3\"/>\n",
       "<circle clip-path=\"url(#clip2602)\" style=\"fill:#000000; stroke:none; fill-opacity:1\" cx=\"139.753\" cy=\"193.84\" r=\"4\"/>\n",
       "<circle clip-path=\"url(#clip2602)\" style=\"fill:#a78600; stroke:none; fill-opacity:1\" cx=\"139.753\" cy=\"193.84\" r=\"3\"/>\n",
       "<circle clip-path=\"url(#clip2602)\" style=\"fill:#000000; stroke:none; fill-opacity:1\" cx=\"167.207\" cy=\"193.84\" r=\"4\"/>\n",
       "<circle clip-path=\"url(#clip2602)\" style=\"fill:#a78600; stroke:none; fill-opacity:1\" cx=\"167.207\" cy=\"193.84\" r=\"3\"/>\n",
       "<circle clip-path=\"url(#clip2602)\" style=\"fill:#000000; stroke:none; fill-opacity:1\" cx=\"192.517\" cy=\"193.84\" r=\"4\"/>\n",
       "<circle clip-path=\"url(#clip2602)\" style=\"fill:#a78600; stroke:none; fill-opacity:1\" cx=\"192.517\" cy=\"193.84\" r=\"3\"/>\n",
       "<circle clip-path=\"url(#clip2602)\" style=\"fill:#000000; stroke:none; fill-opacity:1\" cx=\"219.653\" cy=\"193.84\" r=\"4\"/>\n",
       "<circle clip-path=\"url(#clip2602)\" style=\"fill:#a78600; stroke:none; fill-opacity:1\" cx=\"219.653\" cy=\"193.84\" r=\"3\"/>\n",
       "<circle clip-path=\"url(#clip2602)\" style=\"fill:#000000; stroke:none; fill-opacity:1\" cx=\"251.092\" cy=\"193.84\" r=\"4\"/>\n",
       "<circle clip-path=\"url(#clip2602)\" style=\"fill:#a78600; stroke:none; fill-opacity:1\" cx=\"251.092\" cy=\"193.84\" r=\"3\"/>\n",
       "<circle clip-path=\"url(#clip2602)\" style=\"fill:#000000; stroke:none; fill-opacity:1\" cx=\"279.031\" cy=\"193.84\" r=\"4\"/>\n",
       "<circle clip-path=\"url(#clip2602)\" style=\"fill:#a78600; stroke:none; fill-opacity:1\" cx=\"279.031\" cy=\"193.84\" r=\"3\"/>\n",
       "<circle clip-path=\"url(#clip2602)\" style=\"fill:#000000; stroke:none; fill-opacity:1\" cx=\"303.531\" cy=\"193.84\" r=\"4\"/>\n",
       "<circle clip-path=\"url(#clip2602)\" style=\"fill:#a78600; stroke:none; fill-opacity:1\" cx=\"303.531\" cy=\"193.84\" r=\"3\"/>\n",
       "<circle clip-path=\"url(#clip2602)\" style=\"fill:#000000; stroke:none; fill-opacity:1\" cx=\"330.243\" cy=\"193.84\" r=\"4\"/>\n",
       "<circle clip-path=\"url(#clip2602)\" style=\"fill:#a78600; stroke:none; fill-opacity:1\" cx=\"330.243\" cy=\"193.84\" r=\"3\"/>\n",
       "<circle clip-path=\"url(#clip2602)\" style=\"fill:#000000; stroke:none; fill-opacity:1\" cx=\"357.114\" cy=\"193.84\" r=\"4\"/>\n",
       "<circle clip-path=\"url(#clip2602)\" style=\"fill:#a78600; stroke:none; fill-opacity:1\" cx=\"357.114\" cy=\"193.84\" r=\"3\"/>\n",
       "<circle clip-path=\"url(#clip2602)\" style=\"fill:#000000; stroke:none; fill-opacity:1\" cx=\"386.823\" cy=\"193.84\" r=\"4\"/>\n",
       "<circle clip-path=\"url(#clip2602)\" style=\"fill:#a78600; stroke:none; fill-opacity:1\" cx=\"386.823\" cy=\"193.84\" r=\"3\"/>\n",
       "<circle clip-path=\"url(#clip2602)\" style=\"fill:#000000; stroke:none; fill-opacity:1\" cx=\"415.09\" cy=\"193.84\" r=\"4\"/>\n",
       "<circle clip-path=\"url(#clip2602)\" style=\"fill:#a78600; stroke:none; fill-opacity:1\" cx=\"415.09\" cy=\"193.84\" r=\"3\"/>\n",
       "<circle clip-path=\"url(#clip2602)\" style=\"fill:#000000; stroke:none; fill-opacity:1\" cx=\"444.481\" cy=\"193.84\" r=\"4\"/>\n",
       "<circle clip-path=\"url(#clip2602)\" style=\"fill:#a78600; stroke:none; fill-opacity:1\" cx=\"444.481\" cy=\"193.84\" r=\"3\"/>\n",
       "<circle clip-path=\"url(#clip2602)\" style=\"fill:#000000; stroke:none; fill-opacity:1\" cx=\"469.222\" cy=\"193.84\" r=\"4\"/>\n",
       "<circle clip-path=\"url(#clip2602)\" style=\"fill:#a78600; stroke:none; fill-opacity:1\" cx=\"469.222\" cy=\"193.84\" r=\"3\"/>\n",
       "<circle clip-path=\"url(#clip2602)\" style=\"fill:#000000; stroke:none; fill-opacity:1\" cx=\"499.429\" cy=\"193.84\" r=\"4\"/>\n",
       "<circle clip-path=\"url(#clip2602)\" style=\"fill:#a78600; stroke:none; fill-opacity:1\" cx=\"499.429\" cy=\"193.84\" r=\"3\"/>\n",
       "<circle clip-path=\"url(#clip2602)\" style=\"fill:#000000; stroke:none; fill-opacity:1\" cx=\"527.823\" cy=\"193.84\" r=\"4\"/>\n",
       "<circle clip-path=\"url(#clip2602)\" style=\"fill:#a78600; stroke:none; fill-opacity:1\" cx=\"527.823\" cy=\"193.84\" r=\"3\"/>\n",
       "<circle clip-path=\"url(#clip2602)\" style=\"fill:#000000; stroke:none; fill-opacity:1\" cx=\"573.314\" cy=\"193.84\" r=\"4\"/>\n",
       "<circle clip-path=\"url(#clip2602)\" style=\"fill:#a78600; stroke:none; fill-opacity:1\" cx=\"573.314\" cy=\"193.84\" r=\"3\"/>\n",
       "<polygon clip-path=\"url(#clip2600)\" points=\"\n",
       "489.608,93.171 562.315,93.171 562.315,32.691 489.608,32.691 \n",
       "  \" fill=\"#ffffff\" fill-opacity=\"1\"/>\n",
       "<polyline clip-path=\"url(#clip2600)\" style=\"stroke:#000000; stroke-width:1; stroke-opacity:1; fill:none\" points=\"\n",
       "  489.608,93.171 562.315,93.171 562.315,32.691 489.608,32.691 489.608,93.171 \n",
       "  \"/>\n",
       "<polyline clip-path=\"url(#clip2600)\" style=\"stroke:#a78600; stroke-width:1; stroke-opacity:1; fill:none\" points=\"\n",
       "  495.608,47.811 531.608,47.811 \n",
       "  \"/>\n",
       "<g clip-path=\"url(#clip2600)\">\n",
       "<text style=\"fill:#000000; fill-opacity:1; font-family:Arial,Helvetica Neue,Helvetica,sans-serif; font-size:12; text-anchor:start;\" transform=\"rotate(0, 537.608, 52.311)\" x=\"537.608\" y=\"52.311\">y1</text>\n",
       "</g>\n",
       "<circle clip-path=\"url(#clip2600)\" style=\"fill:#000000; stroke:none; fill-opacity:1\" cx=\"516.608\" cy=\"62.931\" r=\"6\"/>\n",
       "<circle clip-path=\"url(#clip2600)\" style=\"fill:#a78600; stroke:none; fill-opacity:1\" cx=\"516.608\" cy=\"62.931\" r=\"5\"/>\n",
       "<g clip-path=\"url(#clip2600)\">\n",
       "<text style=\"fill:#000000; fill-opacity:1; font-family:Arial,Helvetica Neue,Helvetica,sans-serif; font-size:12; text-anchor:start;\" transform=\"rotate(0, 537.608, 67.431)\" x=\"537.608\" y=\"67.431\">y2</text>\n",
       "</g>\n",
       "<circle clip-path=\"url(#clip2600)\" style=\"fill:#000000; stroke:none; fill-opacity:1\" cx=\"516.608\" cy=\"78.051\" r=\"6\"/>\n",
       "<circle clip-path=\"url(#clip2600)\" style=\"fill:#a78600; stroke:none; fill-opacity:1\" cx=\"516.608\" cy=\"78.051\" r=\"5\"/>\n",
       "<g clip-path=\"url(#clip2600)\">\n",
       "<text style=\"fill:#000000; fill-opacity:1; font-family:Arial,Helvetica Neue,Helvetica,sans-serif; font-size:12; text-anchor:start;\" transform=\"rotate(0, 537.608, 82.551)\" x=\"537.608\" y=\"82.551\">y3</text>\n",
       "</g>\n",
       "</svg>\n"
      ]
     },
     "execution_count": 14,
     "metadata": {},
     "output_type": "execute_result"
    }
   ],
   "source": [
    "eigfig = plot()\n",
    "xlims!(-2, 2)\n",
    "ylims!(-2, 2)\n",
    "plot_2D_vector(eigvec1, M)"
   ]
  },
  {
   "cell_type": "markdown",
   "metadata": {},
   "source": [
    "Here we see only one vector plotted! `M*eigvec1` overlays perfectly with `eigvec1` because `eigvec1` is symmetric across the plane that `M` flips vectors!\n",
    "\n",
    "**We can think of the eigenvectors of a matrix as carrying information about that matrix.** \n",
    "\n",
    "**The eigenvectors corresponding to the largest eigenvalues carry the most important information!**"
   ]
  },
  {
   "cell_type": "markdown",
   "metadata": {},
   "source": [
    "### Singular Value Decompositions\n",
    "\n",
    "There are times where an eigendecomposition or something *like* an eigendecomposition may be useful to us, but where an eigendecomposition is not possible. For example, we can't take the eigendecomposition of a nonsquare matrix, $A$. However, we **can** take the SVD of $A$!\n",
    "\n",
    "We can perform a SVD on matrix A by finding unitary matrices $U$ and $V$ and singular values stored on the diagonal of matrix $S$ such that\n",
    "\n",
    "$$A = USV^T$$\n",
    "\n",
    "We can think of these singular values stored in $S$ as analogs to the eigenvalues that we get from an eigendecomposition.\n",
    "\n",
    "Note that unitary matrices have inverses equal to their conjugate transposes such that \n",
    "\n",
    "$$UU* == UU^{-1} = I$$\n",
    "\n",
    "Given this, we can show that the matrix $U$ stores the eigenvectors of the symmetric matrix $AA^T$; $V$ stores the eigenvectors of the matrix $A^TA$:\n",
    "\n",
    "$$AA^T == USV^T VS^TU^T == U S^2 U^T$$\n",
    "\n",
    "$$ A^T A == V S^T U^T U S V^T == V S^2 V^T$$\n",
    "\n",
    "Furthermore, we can rearrange the definition of $A$ in terms of $U$, $V$, and $S$ to show a relationship between the vectors in $U$ and those in $V$:\n",
    "\n",
    "$$A = USV^T$$\n",
    "$$AV = USV^TV = US$$\n",
    "\n",
    "$AV = US$ is to say that\n",
    "\n",
    "$$Av_i == \\sigma_i u_i$$\n",
    "\n",
    "i.e. when we apply A to a vector $v_i$ we arrive at the product of the $i^{th}$ singular value and the $i^{th}$ eigenvector in $U$.\n",
    "\n",
    "*Now we can think of the singular vectors of a matrix as carrying information about that matrix where those singular vectors corresponding to the largest singular values carry the most important information!* **This is what allows us to do image compression using an SVD. :D **"
   ]
  },
  {
   "cell_type": "code",
   "execution_count": null,
   "metadata": {
    "collapsed": true
   },
   "outputs": [],
   "source": []
  },
  {
   "cell_type": "code",
   "execution_count": null,
   "metadata": {
    "collapsed": true
   },
   "outputs": [],
   "source": []
  },
  {
   "cell_type": "code",
   "execution_count": null,
   "metadata": {
    "collapsed": true
   },
   "outputs": [],
   "source": []
  }
 ],
 "metadata": {
  "kernelspec": {
   "display_name": "Julia 0.6.0",
   "language": "julia",
   "name": "julia-0.6"
  },
  "language_info": {
   "file_extension": ".jl",
   "mimetype": "application/julia",
   "name": "julia",
   "version": "0.6.0"
  }
 },
 "nbformat": 4,
 "nbformat_minor": 2
}
