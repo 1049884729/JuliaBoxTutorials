{
 "cells": [
  {
   "cell_type": "markdown",
   "metadata": {},
   "source": [
    "In this notebook, we'll learn how to use a type of factorization called a **Singular Value Decomposition (SVD)** to compress an image!\n",
    "\n",
    "Before we get started, let's review what SVDs are. To note, I'm targeting this material at someone who has already learned about SVDs but hasn't seen them in a while. If that's not you, that's okay! Hopefully you'll still enjoy the material. Just remember that if you're seeing this for the first time and it feels fast, that's because it is (so no reason to be frustrated!). :)"
   ]
  },
  {
   "cell_type": "markdown",
   "metadata": {},
   "source": [
    "First off, *SVDs are generalizations of **eigendecompositions***. In physics and engineering, eigendecompositions are often more common than SVDs. Let's start by talking about eigendecompositions since you may have seen them more recently."
   ]
  },
  {
   "cell_type": "markdown",
   "metadata": {},
   "source": [
    "### Eigendecompositions\n",
    "\n",
    "When we perform an eigendecomposition, we determine the eigenvalues and eigenvectors of a matrix $A_{sym}$ such that\n",
    "\n",
    "$$A_{sym} = VΛV^T$$\n",
    "\n",
    "when $V$ is the matrix that stores those eigenvectors as columns and $Λ$ is a diagonal matrix where the eigenvalues populate the diagonal.\n",
    "\n",
    "As we saw in the last notebook, we can perform an eigendecomposition on a matrix `Asym` with the function `eigfact`:"
   ]
  },
  {
   "cell_type": "code",
   "execution_count": null,
   "metadata": {},
   "outputs": [],
   "source": [
    "A = rand(2, 2)"
   ]
  },
  {
   "cell_type": "code",
   "execution_count": null,
   "metadata": {},
   "outputs": [],
   "source": [
    "Asym = A + A'"
   ]
  },
  {
   "cell_type": "code",
   "execution_count": null,
   "metadata": {},
   "outputs": [],
   "source": [
    "eigAsym = eigfact(Asym)"
   ]
  },
  {
   "cell_type": "markdown",
   "metadata": {},
   "source": [
    "We can then grab the eigenvalues and eigenvectors with the `:values` and `:vectors` symbols:"
   ]
  },
  {
   "cell_type": "code",
   "execution_count": null,
   "metadata": {},
   "outputs": [],
   "source": [
    "V = eigAsym[:vectors]\n",
    "eigvals = eigAsym[:values]"
   ]
  },
  {
   "cell_type": "markdown",
   "metadata": {},
   "source": [
    "As a sanity check, let's check that we can reconstruct the original matrix, $A_{sym}$ from its eigendecomposition. First, we can build a diagonal matrix from the eigenvalues with the `Diagonal` function."
   ]
  },
  {
   "cell_type": "code",
   "execution_count": null,
   "metadata": {},
   "outputs": [],
   "source": [
    "Λ = Diagonal(eigvals)"
   ]
  },
  {
   "cell_type": "markdown",
   "metadata": {},
   "source": [
    "Does the matrix product $VΛV^T$ look like the original matrix, $A_{sym}$?"
   ]
  },
  {
   "cell_type": "code",
   "execution_count": null,
   "metadata": {},
   "outputs": [],
   "source": [
    "reconstructedAsym = V*Λ*V'"
   ]
  },
  {
   "cell_type": "markdown",
   "metadata": {},
   "source": [
    "Things should be working as we might hope. So what is the importance of the eigenvectors and eigenvalues of a matrix anyways?\n",
    "\n",
    "\n",
    "What's special about the eigenvectors of a matrix is that applying the matrix to them causes them to be stationary in space. In contrast, you can think of most vectors as \"changing direction\" or rotating through space when a matrix is applied to them.\n",
    "\n",
    "*For example*, take the matrix $M$ that flips vectors across the $y$-axis:"
   ]
  },
  {
   "cell_type": "code",
   "execution_count": null,
   "metadata": {},
   "outputs": [],
   "source": [
    "M = [-1 0\n",
    "      0 1]"
   ]
  },
  {
   "cell_type": "markdown",
   "metadata": {},
   "source": [
    "When we apply $M$ to a vector $\\mathbf{v}$ where $\\mathbf{v} = [ v_1, v_2]$, we get $M\\mathbf{v} = [-v_1, v_2]$. Let's see how this \"flips\" a vector across the $y$-axis:"
   ]
  },
  {
   "cell_type": "code",
   "execution_count": null,
   "metadata": {},
   "outputs": [],
   "source": [
    "# Load the colors package\n",
    "using Colors\n",
    "# Load the plots package and call a backend\n",
    "using Plots\n",
    "gr()"
   ]
  },
  {
   "cell_type": "code",
   "execution_count": null,
   "metadata": {},
   "outputs": [],
   "source": [
    "\"\"\"\n",
    "plot_2D_vector(v, M)\n",
    "\n",
    "Given a 2D vector, v, and a matrix, M, plot v and M * v on an existing figure\n",
    "in the same color. Plot v as an overlay of a line and points, and M*v as just a series of points.\"\"\"\n",
    "function plot_2D_vector(v, M)\n",
    "    # choose a color to plot \n",
    "    c = rand(distinguishable_colors(15))\n",
    "    # Define a function f(x) such that the point (x, f(x))\n",
    "    # lies on the vector v\n",
    "    f(x) = v[2]/v[1] * x\n",
    "    # Plot vector v as a line\n",
    "    plot!(f, color = c)\n",
    "    scatter!(f, color = c)\n",
    "\n",
    "    # Similarly, (x, g(x)) lies on the vector M*v\n",
    "    g(x) = (M*v)[2]/(M*v)[1] * x\n",
    "    # Plot M*v as a series of scatter points\n",
    "    scatter!(g, color = c)\n",
    "end"
   ]
  },
  {
   "cell_type": "code",
   "execution_count": null,
   "metadata": {},
   "outputs": [],
   "source": [
    "# Now let's generate a plot\n",
    "fig = plot(legend=false)\n",
    "xlims!(-2, 2)\n",
    "ylims!(-2, 2);"
   ]
  },
  {
   "cell_type": "code",
   "execution_count": null,
   "metadata": {},
   "outputs": [],
   "source": [
    "# And now add a few random vectors and their reflections to it\n",
    "num_vectors = 3\n",
    "for i in 1:num_vectors\n",
    "    v_i = rand(2)\n",
    "    plot_2D_vector(v_i, M)\n",
    "end\n",
    "fig"
   ]
  },
  {
   "cell_type": "markdown",
   "metadata": {},
   "source": [
    "Above, each vector `v_i` is plotted in the same color as the vector `M*v_i` where `v_i` is plotted as a series of dots overlaid with a line and `M*v_i` is plotted as just a series of dots.\n",
    "\n",
    "From the above, we can see that applying `M` to a vector causes it to be flipped across the vertical line centered at `0`.\n",
    "\n",
    "What are the eigenvectors of `M` and what happens to them when we apply `M` to them?\n",
    "\n",
    "Let's perform an eigendecomposition on `M`,"
   ]
  },
  {
   "cell_type": "code",
   "execution_count": null,
   "metadata": {},
   "outputs": [],
   "source": [
    "Meig = eigfact(M)"
   ]
  },
  {
   "cell_type": "markdown",
   "metadata": {},
   "source": [
    "grab the first eigenvector of `M`,"
   ]
  },
  {
   "cell_type": "code",
   "execution_count": null,
   "metadata": {},
   "outputs": [],
   "source": [
    "eigvec1 = Meig[:vectors][:, 1]"
   ]
  },
  {
   "cell_type": "markdown",
   "metadata": {},
   "source": [
    "and plot!"
   ]
  },
  {
   "cell_type": "code",
   "execution_count": null,
   "metadata": {},
   "outputs": [],
   "source": [
    "eigfig = plot()\n",
    "xlims!(-2, 2)\n",
    "ylims!(-2, 2)\n",
    "plot_2D_vector(eigvec1, M)"
   ]
  },
  {
   "cell_type": "markdown",
   "metadata": {},
   "source": [
    "Here we see only one vector plotted! `M*eigvec1` overlays perfectly with `eigvec1` because `eigvec1` is symmetric across the plane that `M` flips vectors!\n",
    "\n",
    "**We can think of the eigenvectors of a matrix as carrying information about that matrix.** \n",
    "\n",
    "**The eigenvectors corresponding to the largest eigenvalues carry the most important information!**"
   ]
  },
  {
   "cell_type": "markdown",
   "metadata": {},
   "source": [
    "### Singular Value Decompositions\n",
    "\n",
    "There are times where an eigendecomposition or something *like* an eigendecomposition may be useful to us, but where an eigendecomposition is not possible. For example, we can't take the eigendecomposition of a nonsquare matrix, $A$. However, we **can** take the SVD of $A$!\n",
    "\n",
    "We can perform a SVD on matrix A by finding unitary matrices $U$ and $V$ and singular values stored on the diagonal of matrix $S$ such that\n",
    "\n",
    "$$A = USV^T$$\n",
    "\n",
    "We can think of these singular values stored in $S$ as analogs to the eigenvalues that we get from an eigendecomposition.\n",
    "\n",
    "Note that unitary matrices have inverses equal to their conjugate transposes such that \n",
    "\n",
    "$$UU* == UU^{-1} = I$$\n",
    "\n",
    "Given this, we can show that the matrix $U$ stores the eigenvectors of the symmetric matrix $AA^T$; $V$ stores the eigenvectors of the matrix $A^TA$:\n",
    "\n",
    "$$AA^T == USV^T VS^TU^T == U S^2 U^T$$\n",
    "\n",
    "$$ A^T A == V S^T U^T U S V^T == V S^2 V^T$$\n",
    "\n",
    "Furthermore, we can rearrange the definition of $A$ in terms of $U$, $V$, and $S$ to show a relationship between the vectors in $U$ and those in $V$:\n",
    "\n",
    "$$A = USV^T$$\n",
    "$$AV = USV^TV = US$$\n",
    "\n",
    "$AV = US$ is to say that\n",
    "\n",
    "$$A\\mathbf{v_i} == \\sigma_i \\mathbf{u_i}$$\n",
    "\n",
    "i.e. when we apply A to a vector $v_i$ we arrive at the product of the $i^{th}$ singular value and the $i^{th}$ eigenvector in $U$.\n",
    "\n",
    "*Now we can think of the singular vectors of a matrix as carrying information about that matrix where those singular vectors corresponding to the largest singular values carry the most important information!* **This is what allows us to do image compression using an SVD. :D **"
   ]
  },
  {
   "cell_type": "code",
   "execution_count": null,
   "metadata": {
    "collapsed": true
   },
   "outputs": [],
   "source": []
  },
  {
   "cell_type": "code",
   "execution_count": null,
   "metadata": {
    "collapsed": true
   },
   "outputs": [],
   "source": []
  },
  {
   "cell_type": "code",
   "execution_count": null,
   "metadata": {
    "collapsed": true
   },
   "outputs": [],
   "source": []
  }
 ],
 "metadata": {
  "kernelspec": {
   "display_name": "Julia 0.6.0",
   "language": "julia",
   "name": "julia-0.6"
  },
  "language_info": {
   "file_extension": ".jl",
   "mimetype": "application/julia",
   "name": "julia",
   "version": "0.6.0"
  }
 },
 "nbformat": 4,
 "nbformat_minor": 2
}
