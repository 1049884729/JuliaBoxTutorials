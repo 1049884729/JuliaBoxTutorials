{
 "cells": [
  {
   "cell_type": "markdown",
   "metadata": {},
   "source": [
    "# Modeling Data\n",
    "\n",
    "Machine learning and data science is about modeling data. **Modeling** is the representation of an idea into a mathematical equation. All machine learning methods are about training a computer to fit a model to some data. Even the fanciest terms like neural networks are simply choices for models. In this notebook we will begin to start building our first computational model of data.\n",
    "\n",
    "## Modeling Data is Hard!\n",
    "\n",
    "Let's pick up where we left off in notebook 1 with fruit. We were left with a riddle. When we load images of apples and bananas"
   ]
  },
  {
   "cell_type": "code",
   "execution_count": null,
   "metadata": {
    "collapsed": true
   },
   "outputs": [],
   "source": [
    "using Images\n",
    "apple = load(\"data/10_100.jpg\")"
   ]
  },
  {
   "cell_type": "code",
   "execution_count": null,
   "metadata": {
    "collapsed": true
   },
   "outputs": [],
   "source": [
    "banana = load(\"data/104_100.jpg\")"
   ]
  },
  {
   "cell_type": "markdown",
   "metadata": {},
   "source": [
    "and then compare their average value for the color red, we end up with something paradoxical:"
   ]
  },
  {
   "cell_type": "code",
   "execution_count": null,
   "metadata": {
    "collapsed": true
   },
   "outputs": [],
   "source": [
    "apple_red_amt = mean(float.(red.(apple)))\n",
    "banana_red_amt = mean(float.(red.(banana)));"
   ]
  },
  {
   "cell_type": "code",
   "execution_count": null,
   "metadata": {
    "collapsed": true
   },
   "outputs": [],
   "source": [
    "\"The average value of red in the apple is $apple_red_amt while the average value of red in the banana is $banana_red_amt.\""
   ]
  },
  {
   "cell_type": "markdown",
   "metadata": {},
   "source": [
    "Were you able to guess why? There are actually two reasons. One of the reasons is the background. The image of the banana has a lot more background than the apple, and the white background has a red value of 1! In our minds we ignore the background and say \"the banana is bright yellow, the apple is a dark red\", but a computer just has a bundle of numbers and does not know where it should be looking.\n",
    "\n",
    "But the other issue is that \"bright yellow\" isn't a color that exists in a computer. The computer has three colors: red, green, and blue. \"Bright yellow\" in a computer is a mixture of red and green, and it just so happens that to get this color yellow it needs more red than the apple!"
   ]
  },
  {
   "cell_type": "code",
   "execution_count": null,
   "metadata": {
    "collapsed": true
   },
   "outputs": [],
   "source": [
    "\"The amount of red in the apple at (60,60) is $(float(red(apple[60,60]))) while the amount of red in the banana at (60,60) is $(float(red(banana[60,60])))\""
   ]
  },
  {
   "cell_type": "markdown",
   "metadata": {},
   "source": [
    "This is a clear example that modeling data is hard!\n",
    "\n",
    "** A note on string interpolation **\n",
    "\n",
    "In the last two input cells, we *interpolated a string*. This means that when we write the string, we insert a placeholder for some value we want the string to include. When the string is evaluated, the value we want the string to include replaces the placeholder. For example, in the following string,\n",
    "\n",
    "```julia\n",
    "mystring = \"The average value of red in the apple is $apple_red_amt\"\n",
    "```\n",
    "\n",
    "`$apple_red_amt` is a placeholder for the value stored in the variable `apple_red_amt`. Julia knows that we want to use the value bound to the variable `apple_red_amt` **not** the word \"apple_red_amt\" because of the dollar sign, $, that comes before `apple_red_amt`.\n",
    "\n",
    "Execute the following code to see what the dollar sign does:\n",
    "\n",
    "```julia\n",
    "mypi = 3.14159\n",
    "println(\"I have a variable called mypi that has a value of $mypi.\")\n",
    "```"
   ]
  },
  {
   "cell_type": "code",
   "execution_count": null,
   "metadata": {
    "collapsed": true
   },
   "outputs": [],
   "source": []
  },
  {
   "cell_type": "markdown",
   "metadata": {},
   "source": [
    "#### Exercise\n",
    "\n",
    "Alter and execute the code that creates `mystring` below \n",
    "\n",
    "```julia\n",
    "apple_amt_blue = mean(float.(blue.(apple)))\n",
    "mystring = \"The average amount of blue in the apple is apple_amt_blue\"\n",
    "```\n",
    "\n",
    "so that `println(mystring)` prints a string that reports the mean value of blue coloration in our image of an apple."
   ]
  },
  {
   "cell_type": "code",
   "execution_count": null,
   "metadata": {
    "collapsed": true
   },
   "outputs": [],
   "source": []
  },
  {
   "cell_type": "markdown",
   "metadata": {},
   "source": [
    "## Take some time to think about the data\n",
    "\n",
    "Apples and bananas are very different, but how do you use the RGB brightness to tell the difference between the two? Here are some quick ideas:\n",
    "\n",
    "- We can use the shape of the object in the image. But how can we encode ideas about shape from an array?\n",
    "- We can use the size of the object in the image. But how do we calculate size?\n",
    "- We can use another color, or combinations of colors, from the image. What colors?\n",
    "\n",
    "Let's go with the last route. The banana is yellow which is a combination of red and green, while the apple is red. This means that the color that clearly differentiates between the two is not red but green!"
   ]
  },
  {
   "cell_type": "code",
   "execution_count": null,
   "metadata": {
    "collapsed": true
   },
   "outputs": [],
   "source": [
    "apple_green_amt = mean(float.(green.(apple)))\n",
    "banana_green_amt = mean(float.(green.(banana)));"
   ]
  },
  {
   "cell_type": "code",
   "execution_count": null,
   "metadata": {
    "collapsed": true
   },
   "outputs": [],
   "source": [
    "\"The average value of green in the apple is $apple_green_amt while the average value of green in the banana is $banana_green_amt\""
   ]
  },
  {
   "cell_type": "markdown",
   "metadata": {},
   "source": [
    "What we just did has fancy names: feature selection and data munging. \n",
    "\n",
    "**Feature selection** is the process of subsetting the data to a more relevant and informative set. We took the full image data and decided to select out the green channel. \n",
    "\n",
    "**Data munging** is transforming the data into a format more suitable for modeling. Here, instead of keeping the full green channel, we transformed it down to a single data point: the average amount of green."
   ]
  },
  {
   "cell_type": "markdown",
   "metadata": {},
   "source": [
    "## Building a Model\n",
    "\n",
    "We want to model the connection between \"the average amount of green\" and \"is an apple or banana\". \n",
    "\n",
    "<img src=\"data/data_flow.png\" alt=\"Drawing\" style=\"width: 800px;\"/>\n",
    "\n",
    "This model is a mathematical function which takes in our data and spits out a number that we will interpret as \"is an apple\" or \"is a banana\".\n",
    "\n",
    "<img src=\"data/what_is_model.png\" alt=\"Drawing\" style=\"width: 500px;\"/>\n",
    "\n",
    "\n",
    "We will interpret the output of the function as \"is an apple\" if the output is close to zero, and \"is a banana\" if it's close to one. Anything in the middle is something we are unsure about. A common function for performing this kind of **classification** is the sigmoid:\n",
    "\n",
    "$$\\sigma(x;w,b) := \\frac{1}{1 + \\exp(-wx + b)}$$\n",
    "\n",
    "$$ x = data $$\n",
    "\n",
    "$$ \\sigma(x;w,b)=0 \\implies apple$$\n",
    "\n",
    "$$ \\sigma(x;w,b) = 1 \\implies banana $$\n",
    "\n",
    "In our mathematical notation above, the `;` in the function differentiates from the **data** and the **parameters**. `x` is the data and is determined from the image. The parameters, `w` and `b`, are numbers which we choose to make our function match the results it should be modeling.\n",
    "\n",
    "Note that in the code below, we don't distinguish between data and parameters - both are just inputs to our function, σ!"
   ]
  },
  {
   "cell_type": "code",
   "execution_count": null,
   "metadata": {
    "collapsed": true
   },
   "outputs": [],
   "source": [
    "σ(x,w,b) = 1 / (1 + exp(-w*x+b))"
   ]
  },
  {
   "cell_type": "markdown",
   "metadata": {},
   "source": [
    "What we want is that when we give σ the average green for the apple, `x=0.33820274`, it should give something close to 0 meaning apple. And when we give σ `x=0.88079727`, it should output something close to 1 meaning banana.\n",
    "\n",
    "We can understand how our choice of `w` and `b` affect our model by seeing how our values for `w` and `b` change the plot:"
   ]
  },
  {
   "cell_type": "code",
   "execution_count": null,
   "metadata": {
    "collapsed": true
   },
   "outputs": [],
   "source": [
    "using Plots; gr()\n",
    "using Interact\n",
    "@manipulate for w in -10:0.01:30, b in 0:0.1:30\n",
    "    plot(x->σ(x,w,b),0,1,label=\"Model\",legend = :topleft,lw=3)\n",
    "    scatter!([apple_green_amt],[σ(apple_green_amt,w,b)],label=\"Apple\")\n",
    "    scatter!([banana_green_amt],[σ(banana_green_amt,w,b)],label=\"Banana\")\n",
    "end"
   ]
  },
  {
   "cell_type": "markdown",
   "metadata": {},
   "source": [
    "Notice that the two parameters do two very different things. The **weight** `w` determines how fast the transition between 0 and 1 occurs. It encodes how trustworthy we think our data can actually is, and in what range we should be putting points between 0 and 1 and thus calling them \"unsure\". The **bias** encodes where on the x-axis the switch should take place. It can be seen as shifting the function left-right. We'll come to understand these *parameters* more in notebook 5 - \"Tools - Function parameters\".\n",
    "\n",
    "Here are some parameter choices that work well:"
   ]
  },
  {
   "cell_type": "code",
   "execution_count": null,
   "metadata": {
    "collapsed": true
   },
   "outputs": [],
   "source": [
    "w = 25.58; b = 15.6\n",
    "plot(x->σ(x,w,b),0,1,label=\"Model\",legend = :topleft,lw=3)\n",
    "scatter!([apple_green_amt],[σ(apple_green_amt,w,b)],label=\"Apple\")\n",
    "scatter!([banana_green_amt],[σ(banana_green_amt,w,b)],label=\"Banana\")"
   ]
  },
  {
   "cell_type": "markdown",
   "metadata": {},
   "source": [
    "Once we have a model, we have a computational representation for how to choose between \"apple\" and \"banana\". Let's pull in some new images and see what our model says!"
   ]
  },
  {
   "cell_type": "code",
   "execution_count": null,
   "metadata": {
    "collapsed": true
   },
   "outputs": [],
   "source": [
    "apple2 = load(\"data/107_100.jpg\")"
   ]
  },
  {
   "cell_type": "code",
   "execution_count": null,
   "metadata": {
    "collapsed": true
   },
   "outputs": [],
   "source": [
    "green_amt = mean(float.(green.(apple2)))\n",
    "@show green_amt\n",
    "scatter!([green_amt],[σ(green_amt,w,b)],label=\"New Apple\")"
   ]
  },
  {
   "cell_type": "markdown",
   "metadata": {},
   "source": [
    "Our model successfully says that our new image is an apple! Pat yourself on the back: you've actually trained your first neural net.\n",
    "\n",
    "#### Exercise\n",
    "\n",
    "Load the image of a banana in `data/8_100.jpg` as `mybanana`. Edit the code below to calculate the amount of green in `mybanana` and to overlay data for this image with the existing model and data points."
   ]
  },
  {
   "cell_type": "code",
   "execution_count": null,
   "metadata": {
    "collapsed": true
   },
   "outputs": [],
   "source": [
    "mybanana = load(\"data/8_100.jpg\")\n",
    "# mybanana_green_amt = \n",
    "# scatter!(label=\"my banana\")"
   ]
  },
  {
   "cell_type": "markdown",
   "metadata": {},
   "source": [
    "## Closing Remarks: Bigger Models, More Data, More Accuracy\n",
    "\n",
    "That last apple should start making you think: not all apples are that red and some are quite yellow. \"redness\" is one attribute of being an apple, but isn't the full thing. What we need to do is incorporate more ideas into our model by allowing more inputs. However, more inputs would mean more parameters to tweak. Also, we would like to have the computer start \"learning\" on its own. How do we take the next step?\n",
    "\n",
    "The first thing to think about is, if you wanted to incorporate more data into the model, how would you change the sigmoid function? Play around with some ideas. But also, start thinking about how you chose parameters. What process did you do to finally end up at good parameters? These two problems (working with models with more data and automatically choosing parameters) are the last remaining step to understanding deep learning."
   ]
  },
  {
   "cell_type": "code",
   "execution_count": null,
   "metadata": {
    "collapsed": true
   },
   "outputs": [],
   "source": []
  }
 ],
 "metadata": {
  "kernelspec": {
   "display_name": "Julia 0.6.0",
   "language": "julia",
   "name": "julia-0.6"
  },
  "language_info": {
   "file_extension": ".jl",
   "mimetype": "application/julia",
   "name": "julia",
   "version": "0.6.0"
  }
 },
 "nbformat": 4,
 "nbformat_minor": 2
}
