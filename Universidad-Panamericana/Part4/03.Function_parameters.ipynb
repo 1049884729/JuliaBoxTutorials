{
 "cells": [
  {
   "cell_type": "code",
   "execution_count": null,
   "metadata": {
    "collapsed": true
   },
   "outputs": [],
   "source": [
    "using Plots; gr()\n",
    "using Interact"
   ]
  },
  {
   "cell_type": "markdown",
   "metadata": {},
   "source": [
    "## Function parameters"
   ]
  },
  {
   "cell_type": "markdown",
   "metadata": {},
   "source": [
    "In this notebook, we'll work again with sigmoid functions of the form\n",
    "\n",
    "$$\\sigma(x) := \\frac{1}{1 + \\exp(-x)}.$$\n",
    "\n",
    "Julia allows us to define this function with the following simple syntax:"
   ]
  },
  {
   "cell_type": "code",
   "execution_count": null,
   "metadata": {
    "collapsed": true
   },
   "outputs": [],
   "source": [
    "σ(x) = 1 / (1 + exp(-x))"
   ]
  },
  {
   "cell_type": "markdown",
   "metadata": {},
   "source": [
    "Instead of working with a single function, we can work with a whole class (set) of functions that look similar but differ in the value of a **parameter**. Let's make a new function that uses the previous $\\sigma$ function, but also has a parameter, $w$. Note that Julia treats parameters just as extra arguments:\n",
    "\n",
    "$$f_w(x) = f(x; w) = \\sigma(w \\, x).$$\n",
    "\n",
    "Mathematically speaking, we can think of $f_w$ as a different function for each different value of the parameter $w$.\n",
    "\n",
    "In Julia, this becomes"
   ]
  },
  {
   "cell_type": "code",
   "execution_count": null,
   "metadata": {
    "collapsed": true,
    "scrolled": true
   },
   "outputs": [],
   "source": [
    "f(x, w) = σ(w * x)"
   ]
  },
  {
   "cell_type": "markdown",
   "metadata": {},
   "source": [
    "Note that Julia just treats parameters as additional arguments to the function."
   ]
  },
  {
   "cell_type": "markdown",
   "metadata": {},
   "source": [
    "Mathematically we can write this in two different ways:\n",
    "\n",
    "$$f(x; w) = f_w(x).$$"
   ]
  },
  {
   "cell_type": "markdown",
   "metadata": {},
   "source": [
    "We can now investigate the effect of $w$ interactively. To do so, we need a way of writing in Julia \"the function of one variable $x$ that we obtain when we fix the value of $w$\". We write this as an \"anonymous function\", as we saw in the last notebook:\n",
    "\n",
    "    x -> f(x, w)\n",
    "    \n",
    "We can read this as \"the function that maps $x$ to the value of $f(x, w)$. "
   ]
  },
  {
   "cell_type": "code",
   "execution_count": null,
   "metadata": {
    "collapsed": true
   },
   "outputs": [],
   "source": [
    "@manipulate for w in -2:0.01:2\n",
    "    plot(x->f(x, w), -5, 5, ylims=(0, 1))\n",
    "end"
   ]
  },
  {
   "cell_type": "markdown",
   "metadata": {},
   "source": [
    "#### Exercise\n",
    "\n",
    "Try writing your own function that takes a parameter. Start by copying and executing\n",
    "\n",
    "```julia\n",
    "square(x) = x^2\n",
    "```\n",
    "\n",
    "Then use `square` to declare a new function `square_and_scale` that takes two inputs, `a` and `x` such that\n",
    "\n",
    "$$square\\_and\\_scale(x; a) := a \\cdot x^2$$"
   ]
  },
  {
   "cell_type": "code",
   "execution_count": null,
   "metadata": {
    "collapsed": true
   },
   "outputs": [],
   "source": []
  },
  {
   "cell_type": "markdown",
   "metadata": {},
   "source": [
    "Once you have declared `square_and_scale`, uncomment the code below and see how the parameter `a` scales the function `square` :"
   ]
  },
  {
   "cell_type": "code",
   "execution_count": null,
   "metadata": {
    "collapsed": true
   },
   "outputs": [],
   "source": [
    "# x = -10:10\n",
    "# @manipulate for a in 0:0.01:10\n",
    "#     plot(x, square.(x), label=\"x^2\")\n",
    "#     plot!(x, square_and_scale.(x, a), ls=:dash, label=\"ax^2\")\n",
    "# end"
   ]
  },
  {
   "cell_type": "markdown",
   "metadata": {},
   "source": [
    "## Fitting a function to data"
   ]
  },
  {
   "cell_type": "markdown",
   "metadata": {},
   "source": [
    "Suppose we are given a single data point $(x_0, y_0) = (2, 0.8)$. We can try to \"fit\" a function $f_w$ by adjusting the parameter $w$ until the function passes through the data:"
   ]
  },
  {
   "cell_type": "code",
   "execution_count": null,
   "metadata": {
    "collapsed": true
   },
   "outputs": [],
   "source": [
    "x0, y0 = 2, 0.8\n",
    "@manipulate for w in -2:0.01:2\n",
    "    plot(x->f(x, w), -5, 5, ylims=(0, 1))\n",
    "    scatter!([x0], [y0])\n",
    "end"
   ]
  },
  {
   "cell_type": "markdown",
   "metadata": {},
   "source": [
    "We can calculate how far we are from the goal, for example, by finding the vertical distance from the curve to the point.\n",
    "Here we will use the function $C$ to calculate how far we are from the goal; it is a function of $w$ and gives us the square of the distance from the curve to the point:\n",
    "\n",
    "$$C(w) = (y_0 - f(x_0, w))^2.$$"
   ]
  },
  {
   "cell_type": "code",
   "execution_count": null,
   "metadata": {
    "collapsed": true
   },
   "outputs": [],
   "source": [
    "@manipulate for w in -2:0.01:2\n",
    "    plot(x->f(x, w), -5, 5, ylims=(0, 1))\n",
    "\n",
    "    x0, y0 = 2, 0.8\n",
    "    \n",
    "    plot!([x0, x0], [y0, f(x0, w)])\n",
    "    scatter!([x0], [y0])\n",
    "    C(w) = (y0 - f(x0, w))^2\n",
    "    title!(\"Distance^2 = C(w) = $(C(w))\")\n",
    "\n",
    "end"
   ]
  },
  {
   "cell_type": "markdown",
   "metadata": {},
   "source": [
    "Let's draw $C(w)$ as a function of the parameter $w$:"
   ]
  },
  {
   "cell_type": "code",
   "execution_count": null,
   "metadata": {
    "collapsed": true
   },
   "outputs": [],
   "source": [
    "x0, y0 = 2.0, 0.8\n",
    "C(w) = (y0 - f(x0, w))^2\n",
    "\n",
    "plot(w -> C(w), -3, 3, xlabel=\"w\", ylabel=\"C(w)\", ylims=(0, 0.7))"
   ]
  },
  {
   "cell_type": "markdown",
   "metadata": {},
   "source": [
    "We see that there is a special value of $w$ where the function $C$ reaches $0$, since for this value of $w$, the graph of $f$ does pass exactly through the point $(x_0, y_0)$. We could find the place $w^*$ where the function hits $0$ by zooming in on that piece of the graph, or with the help of the red vertical line in the next example."
   ]
  },
  {
   "cell_type": "code",
   "execution_count": null,
   "metadata": {
    "collapsed": true
   },
   "outputs": [],
   "source": [
    "x0, y0 = 2.0, 0.8\n",
    "@manipulate for w in -2:0.1:2\n",
    "    plot(w->(y0 - f(x0, w))^2, -3, 3, xlabel=\"w\", ylabel=\"C(w)\", ylims=(0, 0.7))\n",
    "    vline!([w])\n",
    "    title!(\"Vertical line at w = $w\")\n",
    "end"
   ]
  },
  {
   "cell_type": "markdown",
   "metadata": {},
   "source": [
    "#### Exercise\n",
    "\n",
    "For what value of `w` does `C(w)` reach 0?"
   ]
  },
  {
   "cell_type": "code",
   "execution_count": null,
   "metadata": {
    "collapsed": true
   },
   "outputs": [],
   "source": []
  },
  {
   "cell_type": "markdown",
   "metadata": {},
   "source": [
    "**Why did we use such a complicated function $C$ with those squares inside?** We could just take the distance (instead of the distance squared) using the absolute value function:"
   ]
  },
  {
   "cell_type": "code",
   "execution_count": null,
   "metadata": {
    "collapsed": true
   },
   "outputs": [],
   "source": [
    "x0, y0 = 2.0, 0.8\n",
    "\n",
    "plot(w->abs(y0 - f(x0, w)), -3, 3, xlabel=\"w\", ylabel=\"C_abs(w)\", ylims=(0, 0.7))"
   ]
  },
  {
   "cell_type": "markdown",
   "metadata": {},
   "source": [
    "Now we see why squares are generally preferred: using the absolute value gives a cost function that is *not smooth*. This makes it difficult to use methods from calculus to find the minimum. Nonetheless, using non-smooth functions is much more common nowadays."
   ]
  },
  {
   "cell_type": "markdown",
   "metadata": {},
   "source": [
    "## More data"
   ]
  },
  {
   "cell_type": "markdown",
   "metadata": {},
   "source": [
    "Suppose there are now two data points to fit, the previous $(x_0, y_0)$ together with $(x_1, y_1) = (-3, 0.3)$.\n",
    "We will calculate the cost function, `C(w)`, as the sum of the squared vertical distances from the graph to each data point:\n",
    "\n",
    "$$C(w) = \\sum_i [y_i - f_w(x_i)]^2$$\n",
    "\n",
    "Let's try to minimize `C(w)`."
   ]
  },
  {
   "cell_type": "code",
   "execution_count": null,
   "metadata": {
    "collapsed": true
   },
   "outputs": [],
   "source": [
    "xs = [2, -3]\n",
    "ys = [0.8, 0.3]\n",
    "\n",
    "@manipulate for w in -2:0.01:2\n",
    "    plot(x->f(x, w), -5, 5, ylims=(0, 1))\n",
    "    \n",
    "    scatter!(xs, ys)\n",
    "\n",
    "    for i in 1:2\n",
    "        plot!([xs[i], xs[i]], [ys[i], f(xs[i], w)])\n",
    "    end\n",
    "    \n",
    "    C(w) = sum(abs2, ys .- f.(xs, w))\n",
    "    \n",
    "    title!(\"Distance^2 = C(w) =  $(C(w))\")\n",
    "\n",
    "end"
   ]
  },
  {
   "cell_type": "markdown",
   "metadata": {},
   "source": [
    "After playing with this for a while, it is intuitively obvious that we cannot make the function pass through both data points for any value of $w$. In other words, our cost function, `C(w)` is never zero.\n",
    "\n",
    "#### Exercise\n",
    "\n",
    "What is the minimum value of `C(w)` that you can find by altering `w`? What is the corresponding value of `w`?"
   ]
  },
  {
   "cell_type": "code",
   "execution_count": null,
   "metadata": {
    "collapsed": true
   },
   "outputs": [],
   "source": []
  },
  {
   "cell_type": "markdown",
   "metadata": {},
   "source": [
    "In generating the above plot, we used the `sum` function. `sum` can add together all the elements of a collection or range, or it can add together the outputs of applying a function to all the elements of a collection or range. \n",
    "\n",
    "Look up the docs for `sum` via\n",
    "\n",
    "```julia\n",
    "?sum\n",
    "```\n",
    "if you need more information.\n",
    "\n",
    "#### Exercise\n",
    "\n",
    "Use `sum` to add together all integers in the range 1 to 16, inclusive. What is the result?"
   ]
  },
  {
   "cell_type": "code",
   "execution_count": null,
   "metadata": {
    "collapsed": true
   },
   "outputs": [],
   "source": []
  },
  {
   "cell_type": "markdown",
   "metadata": {},
   "source": [
    "#### Exercise\n",
    "\n",
    "What is the sum of the absolute values of all integers between -3 and 3? Use `sum` and the `abs` function."
   ]
  },
  {
   "cell_type": "code",
   "execution_count": null,
   "metadata": {
    "collapsed": true
   },
   "outputs": [],
   "source": []
  },
  {
   "cell_type": "markdown",
   "metadata": {},
   "source": [
    "In our last attempt to minimize `C(w)` by varying `w`, we saw that `C(w)` was always greater than 0. \n",
    "\n",
    "Now let's plot `C(w)` as a function of `w`."
   ]
  },
  {
   "cell_type": "code",
   "execution_count": null,
   "metadata": {
    "collapsed": true
   },
   "outputs": [],
   "source": [
    "C(w) = sum(abs2, ys .- f.(xs, w))\n",
    "\n",
    "plot(C, -1, 1, xlabel=\"w\", ylabel=\"C(w)\", ylims=(0, 1.2))"
   ]
  },
  {
   "cell_type": "markdown",
   "metadata": {},
   "source": [
    "We see that $C$ has a minimum close to $0$ for a special value of $w$; let's call it $w^*$. From the graph, we can see that it's around $w^* \\simeq 0.4$. We could again zoom in on that region of the graph to estimate it more precisely.\n",
    "\n",
    "Isn't there a better way of using the computer to find this value of $w^*$?"
   ]
  },
  {
   "cell_type": "markdown",
   "metadata": {},
   "source": [
    "## More parameters"
   ]
  },
  {
   "cell_type": "markdown",
   "metadata": {},
   "source": [
    "If we add more parameters to a function, we may be able to improve how it fits to data. For example, we could define a new function $g$ with another parameter, a shift or **bias**:\n",
    "\n",
    "$$g(x; w, b) := \\sigma(w \\, x) + b$$"
   ]
  },
  {
   "cell_type": "code",
   "execution_count": null,
   "metadata": {
    "collapsed": true
   },
   "outputs": [],
   "source": [
    "g(x, w, b) = σ(w*x) + b"
   ]
  },
  {
   "cell_type": "markdown",
   "metadata": {},
   "source": [
    "*Note*: In the last notebook, we added parameters to a sigmoid function to get the form $$\\sigma(w \\, x + b)$$ and here we are working with the form $$\\sigma(w \\, x) + b$$ Both of these are valid ways to apply a bias to a function! In machine learning terminology, the first is a *neural net* with a single *neuron* and the second represents one with two layers."
   ]
  },
  {
   "cell_type": "markdown",
   "metadata": {},
   "source": [
    "Let's try to fit this to the data:"
   ]
  },
  {
   "cell_type": "code",
   "execution_count": null,
   "metadata": {
    "collapsed": true
   },
   "outputs": [],
   "source": [
    "xs = [2, -3]\n",
    "ys = [0.8, 0.3]\n",
    "\n",
    "@manipulate for w in -2:0.01:2, b in -2:0.01:2\n",
    "    plot(x->g(x, w, b), -5, 5, ylims=(0, 1))\n",
    "    \n",
    "    scatter!(xs, ys)\n",
    "\n",
    "    for i in 1:2\n",
    "        plot!([xs[i], xs[i]], [ys[i], g(xs[i], w, b)])\n",
    "    end\n",
    "    \n",
    "    C2D(w, b) = sum(abs2, ys .- g.(xs, w, b))\n",
    "    \n",
    "    title!(\"Distance^2 = C2D(w, b) = $(C2D(w, b))\")\n",
    "\n",
    "end"
   ]
  },
  {
   "cell_type": "markdown",
   "metadata": {},
   "source": [
    "You should be able to convince yourself that we can now make the curve pass through both points simultaneously. \n",
    "\n",
    "#### Exercise\n",
    "\n",
    "For what values of `w` and `b` does the line pass through both points?"
   ]
  },
  {
   "cell_type": "code",
   "execution_count": null,
   "metadata": {
    "collapsed": true
   },
   "outputs": [],
   "source": []
  },
  {
   "cell_type": "markdown",
   "metadata": {},
   "source": [
    "Let's plot the cost function, taking both parameters into account. To do this, let's first write the cost function as $C_{2D}$:"
   ]
  },
  {
   "cell_type": "code",
   "execution_count": null,
   "metadata": {
    "collapsed": true
   },
   "outputs": [],
   "source": [
    "C2D(w, b) = sum(abs2, ys .- g.(xs, w, b))"
   ]
  },
  {
   "cell_type": "markdown",
   "metadata": {},
   "source": [
    "To plot the cost as a function of *two* variables (the weights *and* the bias), we will make use of the `surface` function."
   ]
  },
  {
   "cell_type": "code",
   "execution_count": null,
   "metadata": {
    "collapsed": true
   },
   "outputs": [],
   "source": [
    "ws = -2:0.05:2\n",
    "bs = -2:0.05:2\n",
    "\n",
    "surface(ws, bs, C2D, alpha=0.8, zlims=(0,3))"
   ]
  },
  {
   "cell_type": "markdown",
   "metadata": {},
   "source": [
    "Let's make a new version of this plot using the `plotlyjs` backend so that it becomes a bit more interactive. This will allow us to rotate the surface within our notebook and get a better sense of what it looks like."
   ]
  },
  {
   "cell_type": "code",
   "execution_count": null,
   "metadata": {
    "collapsed": true
   },
   "outputs": [],
   "source": [
    "plotlyjs()"
   ]
  },
  {
   "cell_type": "code",
   "execution_count": null,
   "metadata": {
    "collapsed": true
   },
   "outputs": [],
   "source": [
    "ws = -2:0.05:2\n",
    "bs = -2:0.05:2\n",
    "\n",
    "surface(ws, bs, C2D, alpha=0.8, zlims=(0,3))"
   ]
  },
  {
   "cell_type": "markdown",
   "metadata": {},
   "source": [
    "If we rotate the surface around, we can see that indeed there is a unique point $(w^*, b^*)$ where the function $C_2$ attains its minimum."
   ]
  },
  {
   "cell_type": "markdown",
   "metadata": {},
   "source": [
    "If we add more data, however, we will again not be able to fit all of the data; we will only be able to attain a \"best fit\".\n",
    "\n",
    "Let's create `xs` and `ys` with more data:"
   ]
  },
  {
   "cell_type": "code",
   "execution_count": null,
   "metadata": {
    "collapsed": true
   },
   "outputs": [],
   "source": [
    "xs = [2, -3, -1, 1]\n",
    "ys = [0.8, 0.3, 0.4, 0.4]"
   ]
  },
  {
   "cell_type": "markdown",
   "metadata": {},
   "source": [
    "and now we can try to plot our best fit, given all this data:"
   ]
  },
  {
   "cell_type": "code",
   "execution_count": null,
   "metadata": {
    "collapsed": true,
    "scrolled": true
   },
   "outputs": [],
   "source": [
    "@manipulate for w in -2:0.01:2, b in -2:0.01:2\n",
    "    plot(x->g(x, w, b), -5, 5, ylims=(-0.2, 1))\n",
    "    \n",
    "    scatter!(xs, ys)\n",
    "\n",
    "    for i in 1:length(xs)\n",
    "        plot!([xs[i], xs[i]], [ys[i], g(xs[i], w, b)])\n",
    "    end\n",
    "    \n",
    "    C2D(w, b) = sum(abs2, ys .- g.(xs, w, b))\n",
    "    \n",
    "    title!(\"Distance^2 = C2D(w, b) = $(C2D(w, b))\")\n",
    "\n",
    "end"
   ]
  },
  {
   "cell_type": "markdown",
   "metadata": {},
   "source": [
    "Let's define the cost function that we're using above so that we can plot it as a function of the parameters `ws` and `bs`."
   ]
  },
  {
   "cell_type": "markdown",
   "metadata": {},
   "source": [
    "#### Exercise\n",
    "\n",
    "We've seen the cost function, $$C_{2D}(w, b) = \\sum_i(ys_i - g(xs_i, w, b))^2$$ written in Julia as\n",
    "\n",
    "```julia\n",
    "C2D(w, b) = sum(abs2, ys .- g.(xs, w, b))\n",
    "```\n",
    "\n",
    "a few times now. To ensure you understand what this function is doing, implement your own cost function using the commented code below. Do this without using `sum`, `abs2`, or broadcasting dot syntax (for example, `.-`). Hint: you'll want to use a `for` loop to do this."
   ]
  },
  {
   "cell_type": "code",
   "execution_count": null,
   "metadata": {
    "collapsed": true
   },
   "outputs": [],
   "source": [
    "# function myC2D(w, b)\n",
    "#     cost = 0\n",
    "    \n",
    "#     return cost\n",
    "# end"
   ]
  },
  {
   "cell_type": "markdown",
   "metadata": {},
   "source": [
    "Now that you've defined `myC2D`, we can plot it using `surface`!"
   ]
  },
  {
   "cell_type": "code",
   "execution_count": null,
   "metadata": {
    "collapsed": true
   },
   "outputs": [],
   "source": [
    "ws = -2:0.05:2\n",
    "bs = -2:0.05:2\n",
    "\n",
    "surface(ws, bs, myC2D, alpha=0.8, zlims=(0,3))"
   ]
  },
  {
   "cell_type": "code",
   "execution_count": null,
   "metadata": {
    "collapsed": true
   },
   "outputs": [],
   "source": []
  }
 ],
 "metadata": {
  "kernelspec": {
   "display_name": "Julia 0.6.0",
   "language": "julia",
   "name": "julia-0.6"
  },
  "language_info": {
   "file_extension": ".jl",
   "mimetype": "application/julia",
   "name": "julia",
   "version": "0.6.0"
  },
  "toc": {
   "colors": {
    "hover_highlight": "#DAA520",
    "running_highlight": "#FF0000",
    "selected_highlight": "#FFD700"
   },
   "moveMenuLeft": true,
   "nav_menu": {
    "height": "104px",
    "width": "252px"
   },
   "navigate_menu": true,
   "number_sections": true,
   "sideBar": true,
   "threshold": "1",
   "toc_cell": false,
   "toc_section_display": "block",
   "toc_window_display": false
  }
 },
 "nbformat": 4,
 "nbformat_minor": 2
}
